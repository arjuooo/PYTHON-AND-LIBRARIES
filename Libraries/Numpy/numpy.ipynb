{
 "cells": [
  {
   "cell_type": "code",
   "execution_count": 1,
   "id": "785ddf9d-b34b-46bd-a0da-a3877b1c83dc",
   "metadata": {},
   "outputs": [
    {
     "name": "stdout",
     "output_type": "stream",
     "text": [
      "[1 2]\n",
      "[3 4]\n",
      "[5 6]\n"
     ]
    }
   ],
   "source": [
    "import numpy as np\n",
    "a=np.array([1,2,3,4,5,6])\n",
    "n=np.array_split(a,3)\n",
    "print(n[0])\n",
    "print(n[1])\n",
    "print(n[2])"
   ]
  },
  {
   "cell_type": "code",
   "execution_count": 2,
   "id": "ebecbdb2-a042-49b9-ae5c-4eb31cfaa8b3",
   "metadata": {},
   "outputs": [
    {
     "name": "stdout",
     "output_type": "stream",
     "text": [
      "[1 2] [3 4]\n"
     ]
    }
   ],
   "source": [
    "import numpy as np\n",
    "a=np.array([1,2,3,4,5,6])\n",
    "n=np.array_split(a,3)\n",
    "print(n[0],n[1])"
   ]
  },
  {
   "cell_type": "code",
   "execution_count": 5,
   "id": "c3b32cb2-b3b7-4d87-bcea-cf13d0a68958",
   "metadata": {},
   "outputs": [
    {
     "name": "stdout",
     "output_type": "stream",
     "text": [
      "[array([[1, 2],\n",
      "       [3, 4]]), array([[5, 6]]), array([[7, 8]])]\n"
     ]
    }
   ],
   "source": [
    "import numpy as np \n",
    "a=np.array([[1,2],[3,4],[5,6],[7,8]])\n",
    "n=np.array_split(a,3)\n",
    "print(n)"
   ]
  },
  {
   "cell_type": "code",
   "execution_count": 7,
   "id": "6925c054-e0f2-4d1d-aabd-d1ef14c4fb58",
   "metadata": {},
   "outputs": [
    {
     "name": "stdout",
     "output_type": "stream",
     "text": [
      "[array([[1, 2, 3],\n",
      "       [4, 5, 6]]), array([[7, 8, 9]]), array([[10, 11, 12]]), array([[13, 14, 15]]), array([[16, 17, 18]])]\n"
     ]
    }
   ],
   "source": [
    "import numpy as np\n",
    "a=np.array([[1,2,3],[4,5,6],[7,8,9],[10,11,12],[13,14,15],[16,17,18]])\n",
    "n=np.array_split(a,5)\n",
    "print(n)"
   ]
  },
  {
   "cell_type": "code",
   "execution_count": 10,
   "id": "816a22f5-1c19-4f42-a65c-381b008992a5",
   "metadata": {},
   "outputs": [
    {
     "name": "stdout",
     "output_type": "stream",
     "text": [
      "[array([[ 1],\n",
      "       [ 4],\n",
      "       [ 7],\n",
      "       [10],\n",
      "       [13],\n",
      "       [16]]), array([[ 2],\n",
      "       [ 5],\n",
      "       [ 8],\n",
      "       [11],\n",
      "       [14],\n",
      "       [17]]), array([[ 3],\n",
      "       [ 6],\n",
      "       [ 9],\n",
      "       [12],\n",
      "       [15],\n",
      "       [18]])]\n"
     ]
    }
   ],
   "source": [
    "import numpy as np \n",
    "a=np.array([[1,2,3],[4,5,6],[7,8,9],[10,11,12],[13,14,15],[16,17,18]])\n",
    "n=np.hsplit(a,3)\n",
    "print(n)"
   ]
  },
  {
   "cell_type": "code",
   "execution_count": 16,
   "id": "cf9a5914-0431-42da-9aed-c7554581c6df",
   "metadata": {},
   "outputs": [
    {
     "name": "stdout",
     "output_type": "stream",
     "text": [
      "[[[1 4]\n",
      "  [2 5]\n",
      "  [3 6]]]\n"
     ]
    }
   ],
   "source": [
    "import numpy as np\n",
    "a1=np.array([1,2,3])\n",
    "a2=np.array([4,5,6])\n",
    "a=np.dstack((a1,a2))\n",
    "print(a)"
   ]
  },
  {
   "cell_type": "code",
   "execution_count": 13,
   "id": "80061426-3d23-49c8-9c04-dcbdd9c6041c",
   "metadata": {},
   "outputs": [
    {
     "name": "stdout",
     "output_type": "stream",
     "text": [
      "[[1 2 3]\n",
      " [4 5 6]]\n"
     ]
    }
   ],
   "source": [
    "import numpy as np\n",
    "a1=np.array([1,2,3])\n",
    "a2=np.array([4,5,6])\n",
    "a=np.vstack((a1,a2))\n",
    "print(a)"
   ]
  },
  {
   "cell_type": "code",
   "execution_count": 17,
   "id": "82005355-1544-4c51-b5a9-89640cb0bcc9",
   "metadata": {},
   "outputs": [
    {
     "name": "stdout",
     "output_type": "stream",
     "text": [
      "[1 2 3 4 5 6]\n"
     ]
    }
   ],
   "source": [
    "import numpy as np\n",
    "a1=np.array([1,2,3])\n",
    "a2=np.array([4,5,6])\n",
    "a=np.hstack((a1,a2))\n",
    "print(a)"
   ]
  },
  {
   "cell_type": "code",
   "execution_count": 18,
   "id": "95dbacfd-dd15-408f-9cbd-2a747ba3554b",
   "metadata": {},
   "outputs": [
    {
     "name": "stdout",
     "output_type": "stream",
     "text": [
      "(array([3, 5, 6]),)\n"
     ]
    }
   ],
   "source": [
    "import numpy as np\n",
    "a=np.array([1,2,3,4,5,4,4])\n",
    "x=np.where (a==4)\n",
    "print(x)"
   ]
  },
  {
   "cell_type": "code",
   "execution_count": 19,
   "id": "991a2260-f6f1-454c-85aa-e5009c292b92",
   "metadata": {},
   "outputs": [
    {
     "name": "stdout",
     "output_type": "stream",
     "text": [
      "(array([1, 3, 5, 7]),)\n"
     ]
    }
   ],
   "source": [
    "import numpy as np\n",
    "a=np.array([1,2,3,4,5,6,7,8])\n",
    "x=np.where(a%2==0)\n",
    "print(x)"
   ]
  },
  {
   "cell_type": "code",
   "execution_count": 3,
   "id": "f830ab20-6c38-4595-bab6-a8239ecb9ca8",
   "metadata": {},
   "outputs": [
    {
     "name": "stdout",
     "output_type": "stream",
     "text": [
      "(array([0, 2, 4, 6, 8]),)\n"
     ]
    }
   ],
   "source": [
    "import numpy as np\n",
    "a=np.array([1,2,3,4,5,6,7,8,9,10])\n",
    "x=np.where(a%2==1)\n",
    "print(x)"
   ]
  },
  {
   "cell_type": "code",
   "execution_count": 6,
   "id": "6be20a33-9276-4276-983a-b373b331f52a",
   "metadata": {},
   "outputs": [
    {
     "name": "stdout",
     "output_type": "stream",
     "text": [
      "5\n"
     ]
    }
   ],
   "source": [
    "import numpy as np\n",
    "a=np.array([1,2,3,4,5,6,7,8,9,10,7,9,10,7,4,5,6,7])\n",
    "x=np.searchsorted(a,6)\n",
    "print(x)"
   ]
  },
  {
   "cell_type": "code",
   "execution_count": 7,
   "id": "aa8432ae-d4dd-42c1-8eb3-7b17006b4c6e",
   "metadata": {},
   "outputs": [
    {
     "name": "stdout",
     "output_type": "stream",
     "text": [
      "2\n"
     ]
    }
   ],
   "source": [
    "import numpy as np\n",
    "a=np.array([6,7,8,9])\n",
    "x=np.searchsorted(a,7,side='right')\n",
    "print(x)"
   ]
  },
  {
   "cell_type": "code",
   "execution_count": 11,
   "id": "a1778930-5f46-49ad-beb1-2f6c5b9cba98",
   "metadata": {},
   "outputs": [
    {
     "name": "stdout",
     "output_type": "stream",
     "text": [
      "[2 3 4]\n"
     ]
    }
   ],
   "source": [
    "import numpy as np\n",
    "a=np.array([1,2,3,5,7,9])\n",
    "x=np.searchsorted(a,[2.5,4,6])\n",
    "print(x)"
   ]
  },
  {
   "cell_type": "code",
   "execution_count": 12,
   "id": "2c385a5c-cff7-4209-a526-f16ad64100d5",
   "metadata": {},
   "outputs": [
    {
     "name": "stdout",
     "output_type": "stream",
     "text": [
      "[0 1 2 3]\n"
     ]
    }
   ],
   "source": [
    "import numpy as np\n",
    "a=np.array([3,2,0,1])\n",
    "print(np.sort(a))"
   ]
  },
  {
   "cell_type": "code",
   "execution_count": 13,
   "id": "e4953dc2-04d7-4311-b2e1-1fbb31c64382",
   "metadata": {},
   "outputs": [
    {
     "name": "stdout",
     "output_type": "stream",
     "text": [
      "['apple' 'banana' 'cherry' 'dragon fruit']\n"
     ]
    }
   ],
   "source": [
    "import numpy as np\n",
    "a=np.array(['banana','cherry','apple','dragon fruit'])\n",
    "print(np.sort(a))"
   ]
  },
  {
   "cell_type": "code",
   "execution_count": 17,
   "id": "bcf740ec-5795-49ea-9eb9-ef6dd26d70a3",
   "metadata": {},
   "outputs": [
    {
     "name": "stdout",
     "output_type": "stream",
     "text": [
      "[False False  True]\n"
     ]
    }
   ],
   "source": [
    "import numpy as np\n",
    "a=np.array([True,False,False])\n",
    "print(np.sort(a))"
   ]
  },
  {
   "cell_type": "code",
   "execution_count": 18,
   "id": "79330fb7-b6e9-420b-bf85-1562a313fc29",
   "metadata": {},
   "outputs": [
    {
     "name": "stdout",
     "output_type": "stream",
     "text": [
      "[1.00e-03 1.00e-01 1.00e+00 1.50e+00 1.99e+00 2.00e+00 2.04e+00]\n"
     ]
    }
   ],
   "source": [
    "import numpy as np\n",
    "a=np.array([1.5,2.0,1.99,0.001,0.1,1.0,2.04])\n",
    "print(np.sort(a))"
   ]
  },
  {
   "cell_type": "code",
   "execution_count": 24,
   "id": "e31e82ce-ac30-441f-9ad7-3caf7fd9dc71",
   "metadata": {},
   "outputs": [
    {
     "name": "stdout",
     "output_type": "stream",
     "text": [
      "['1,banana' 'apple' 'cherry' 'dragon fruit']\n"
     ]
    }
   ],
   "source": [
    "import numpy as np\n",
    "a=np.array(['1,banana','cherry','apple','dragon fruit'])\n",
    "print(np.sort(a))"
   ]
  },
  {
   "cell_type": "code",
   "execution_count": 30,
   "id": "42052bb0-5ed0-4206-b1f7-b5ba68ce7edb",
   "metadata": {},
   "outputs": [
    {
     "name": "stdout",
     "output_type": "stream",
     "text": [
      "[[ 0  1  2  3  4  5  6  7]\n",
      " [ 1  1  2  3  5  8  9 10]]\n"
     ]
    }
   ],
   "source": [
    "import numpy as np\n",
    "a=np.array([[3,1,4,5,7,0,2,6],[1,9,1,2,3,8,5,10]])\n",
    "print(np.sort(a))"
   ]
  },
  {
   "cell_type": "code",
   "execution_count": 34,
   "id": "8ca37033-d0de-415e-9ee5-a55ab126229b",
   "metadata": {},
   "outputs": [
    {
     "name": "stdout",
     "output_type": "stream",
     "text": [
      "[[2 3 4]\n",
      " [0 1 5]]\n"
     ]
    }
   ],
   "source": [
    "import numpy as np\n",
    "a=np.array([[3,2,4],[5,0,1]])\n",
    "print(np.sort(a))"
   ]
  },
  {
   "cell_type": "code",
   "execution_count": 38,
   "id": "2860bc18-b019-48b8-8ed8-9a8f4905315b",
   "metadata": {},
   "outputs": [
    {
     "name": "stdout",
     "output_type": "stream",
     "text": [
      "[['0' '2' '3' '4']\n",
      " ['1' 'apple' 'banana' 'cherry']]\n"
     ]
    }
   ],
   "source": [
    "import numpy as np\n",
    "a=np.array([[3,2,4,0],['banana',1,'cherry','apple']])\n",
    "print(np.sort(a))"
   ]
  },
  {
   "cell_type": "code",
   "execution_count": 46,
   "id": "65053a95-6884-4a4a-90bc-681b46e70128",
   "metadata": {},
   "outputs": [
    {
     "name": "stdout",
     "output_type": "stream",
     "text": [
      "[0.  0.1 1.  2.  3.  4.  5.  6.  7.  8.  9. ]\n",
      "4\n"
     ]
    }
   ],
   "source": [
    "import numpy as np\n",
    "a=np.array([9,0,0.1,5,8,3,7,1,2,4,6])\n",
    "n=(np.sort(a))\n",
    "print(n)\n",
    "print(np.searchsorted(n,3))"
   ]
  },
  {
   "cell_type": "code",
   "execution_count": 2,
   "id": "eeb62aa9-ac7c-47db-a28d-e5d704ba9c6f",
   "metadata": {},
   "outputs": [
    {
     "name": "stdout",
     "output_type": "stream",
     "text": [
      "8\n"
     ]
    }
   ],
   "source": [
    "import numpy as np\n",
    "a = np.array([9, 0, 1, 5, 8, 3, 7, 1, 2, 4, 6])\n",
    "a_sorted = np.sort(a)\n",
    "print(np.searchsorted(a_sorted, 7))"
   ]
  },
  {
   "cell_type": "code",
   "execution_count": 22,
   "id": "cb18c9a9-7be4-430f-a49b-9e82ebd46ea2",
   "metadata": {},
   "outputs": [
    {
     "name": "stdout",
     "output_type": "stream",
     "text": [
      "[['0' '2' '3' '4' '9']\n",
      " ['apple' 'banana' 'cherry' 'cherry' 'mango']]\n"
     ]
    }
   ],
   "source": [
    "import numpy as n\n",
    "a=n.array([[3,2,4,0,9],['banana','mango','cherry','apple','cherry']])\n",
    "print(n.sort(a))"
   ]
  },
  {
   "cell_type": "code",
   "execution_count": 5,
   "id": "03c8faa0-1803-4694-a366-ca2ab6e227fd",
   "metadata": {},
   "outputs": [
    {
     "name": "stdout",
     "output_type": "stream",
     "text": [
      "3\n",
      "2\n",
      "4\n",
      "0\n",
      "9\n",
      "banana\n",
      "mango\n",
      "cherry\n",
      "apple\n",
      "cherry\n",
      "[['0' '2' '3' '4' '9']\n",
      " ['apple' 'banana' 'cherry' 'cherry' 'mango']]\n"
     ]
    }
   ],
   "source": [
    "import numpy as np\n",
    "a=np.array([[3,2,4,0,9],['banana','mango','cherry','apple','cherry']])\n",
    "for x in np.nditer(a,flags=['buffered']):\n",
    "    print(x)\n",
    "print(n.sort(a))"
   ]
  },
  {
   "cell_type": "code",
   "execution_count": 16,
   "id": "e889d327-f096-4d22-9af9-c5e7267d2b18",
   "metadata": {},
   "outputs": [
    {
     "name": "stdout",
     "output_type": "stream",
     "text": [
      "9\n"
     ]
    }
   ],
   "source": [
    "x='applebananacherrycherrymango'\n",
    "count=0\n",
    "k=\"aeiou\"\n",
    "for i in x:\n",
    "    if i in k:\n",
    "        count+=1\n",
    "print(count)"
   ]
  },
  {
   "cell_type": "code",
   "execution_count": 29,
   "id": "1e4e962e-be01-4101-953f-34e51e197c63",
   "metadata": {},
   "outputs": [
    {
     "name": "stdout",
     "output_type": "stream",
     "text": [
      "8*1=8\n",
      "8*2=16\n",
      "8*3=24\n",
      "8*4=32\n",
      "8*5=40\n",
      "8*6=48\n",
      "8*7=56\n",
      "8*8=64\n",
      "8*9=72\n",
      "8*10=80\n"
     ]
    }
   ],
   "source": [
    "num=8\n",
    "for i in range(1,11):\n",
    "    print(f\"{num}*{i}={num*i}\")"
   ]
  },
  {
   "cell_type": "code",
   "execution_count": 33,
   "id": "c2740a8c-7268-4b5e-acbe-007f65cdb4be",
   "metadata": {},
   "outputs": [
    {
     "name": "stdout",
     "output_type": "stream",
     "text": [
      "8*2=16\n",
      "8*4=32\n",
      "8*6=48\n",
      "8*8=64\n",
      "8*10=80\n"
     ]
    }
   ],
   "source": [
    "num=8\n",
    "for i in range(1,11):\n",
    "    if i%2==0:\n",
    "        print(f\"{num}*{i}={num*i}\")"
   ]
  },
  {
   "cell_type": "code",
   "execution_count": 40,
   "id": "a3f4df8e-3c90-4a24-9628-f84232711666",
   "metadata": {},
   "outputs": [
    {
     "name": "stdout",
     "output_type": "stream",
     "text": [
      "5050\n"
     ]
    }
   ],
   "source": [
    "total=0\n",
    "for i in range(1,101):\n",
    "    total +=i\n",
    "print(total)"
   ]
  }
 ],
 "metadata": {
  "kernelspec": {
   "display_name": "Python 3 (ipykernel)",
   "language": "python",
   "name": "python3"
  },
  "language_info": {
   "codemirror_mode": {
    "name": "ipython",
    "version": 3
   },
   "file_extension": ".py",
   "mimetype": "text/x-python",
   "name": "python",
   "nbconvert_exporter": "python",
   "pygments_lexer": "ipython3",
   "version": "3.12.8"
  }
 },
 "nbformat": 4,
 "nbformat_minor": 5
}
