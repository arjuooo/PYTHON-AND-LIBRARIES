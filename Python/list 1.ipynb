{
 "cells": [
  {
   "cell_type": "code",
   "execution_count": 2,
   "id": "4d2bb436-4f79-4f27-8d4a-96e5f76b6cae",
   "metadata": {},
   "outputs": [
    {
     "name": "stdout",
     "output_type": "stream",
     "text": [
      "('apple', 'orange', 'kiwi')\n"
     ]
    }
   ],
   "source": [
    "fruits=(\"apple\",\"orange\",\"kiwi\")\n",
    "print(fruits)"
   ]
  },
  {
   "cell_type": "code",
   "execution_count": 3,
   "id": "fef2a4f0-1129-47e0-86f5-2e63a2b0165c",
   "metadata": {},
   "outputs": [
    {
     "name": "stdout",
     "output_type": "stream",
     "text": [
      "3\n"
     ]
    }
   ],
   "source": [
    "fruits=(\"apple\",\"orange\",\"kiwi\")\n",
    "print(len(fruits))"
   ]
  },
  {
   "cell_type": "code",
   "execution_count": 7,
   "id": "f2aea4f3-5b40-463e-a00e-64958b96e046",
   "metadata": {},
   "outputs": [],
   "source": [
    "variety=(\"abc\",34,True,40,\"male\")"
   ]
  },
  {
   "cell_type": "code",
   "execution_count": 8,
   "id": "f1edd435-8b3b-4077-8460-35efc80a6731",
   "metadata": {},
   "outputs": [
    {
     "name": "stdout",
     "output_type": "stream",
     "text": [
      "<class 'tuple'>\n"
     ]
    }
   ],
   "source": [
    "fruits=(\"apple\",\"orange\",\"kiwi\")\n",
    "print(type(fruits))"
   ]
  },
  {
   "cell_type": "code",
   "execution_count": 9,
   "id": "9fb34297-510c-4ebe-a38c-a3bbada24c63",
   "metadata": {},
   "outputs": [
    {
     "name": "stdout",
     "output_type": "stream",
     "text": [
      "banana\n"
     ]
    }
   ],
   "source": [
    "fruits=(\"apple\",\"banana\",\"cherry\")\n",
    "print(fruits[1])"
   ]
  },
  {
   "cell_type": "code",
   "execution_count": 11,
   "id": "e690c240-f9d4-44b5-9735-b3f7cb78527b",
   "metadata": {},
   "outputs": [
    {
     "name": "stdout",
     "output_type": "stream",
     "text": [
      "cherry\n"
     ]
    }
   ],
   "source": [
    "fruits=(\"apple\",\"banana\",\"cherry\")\n",
    "print(fruits[-1])"
   ]
  },
  {
   "cell_type": "raw",
   "id": "8ae0fd33-75b1-4475-b892-da5269e44ad2",
   "metadata": {},
   "source": [
    "fruits=(\"apple\",\"banana\",\"chery\",\"orange\",\"kiwi\",\"melon\")\n",
    "print(fruits[2:])"
   ]
  },
  {
   "cell_type": "code",
   "execution_count": 12,
   "id": "4e1f0735-f3e2-4ad0-a7a2-2fe0e2426411",
   "metadata": {},
   "outputs": [
    {
     "name": "stdout",
     "output_type": "stream",
     "text": [
      "('apple', 'watermelon', 'cherry')\n"
     ]
    }
   ],
   "source": [
    "x=(\"apple\",\"xbanana\",\"cherry\")\n",
    "y=list(x)\n",
    "y[1]=\"watermelon\"\n",
    "x=tuple(y)\n",
    "print(x)"
   ]
  },
  {
   "cell_type": "code",
   "execution_count": 13,
   "id": "9f2b637c-b1b6-4f99-8197-a05b67ec55a6",
   "metadata": {},
   "outputs": [
    {
     "name": "stdout",
     "output_type": "stream",
     "text": [
      "apple\n",
      "banana\n",
      "cherry\n"
     ]
    }
   ],
   "source": [
    "fruits=(\"apple\",\"banana\",\"cherry\")\n",
    "(green,yellow,red)=fruits\n",
    "print(green)\n",
    "print(yellow)\n",
    "print(red)"
   ]
  },
  {
   "cell_type": "code",
   "execution_count": null,
   "id": "f2629ef1-6dd6-4848-908d-d54dfd5272de",
   "metadata": {},
   "outputs": [],
   "source": []
  }
 ],
 "metadata": {
  "kernelspec": {
   "display_name": "Python 3 (ipykernel)",
   "language": "python",
   "name": "python3"
  },
  "language_info": {
   "codemirror_mode": {
    "name": "ipython",
    "version": 3
   },
   "file_extension": ".py",
   "mimetype": "text/x-python",
   "name": "python",
   "nbconvert_exporter": "python",
   "pygments_lexer": "ipython3",
   "version": "3.13.1"
  }
 },
 "nbformat": 4,
 "nbformat_minor": 5
}
