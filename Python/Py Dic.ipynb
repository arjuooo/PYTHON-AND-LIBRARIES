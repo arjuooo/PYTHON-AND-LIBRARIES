{
 "cells": [
  {
   "cell_type": "code",
   "execution_count": 29,
   "id": "45c6359f-7a30-4d75-a41c-1c99cd742e79",
   "metadata": {},
   "outputs": [
    {
     "name": "stdout",
     "output_type": "stream",
     "text": [
      "{'brand': 'BMW', 'model': 'm series', 'year': 2023}\n"
     ]
    }
   ],
   "source": [
    "cars={\n",
    "    \"brand\":\"BMW\",\n",
    "\"model\":\"m series\",\n",
    "\"year\":2023,\n",
    "}\n",
    "print(cars)"
   ]
  },
  {
   "cell_type": "code",
   "execution_count": 4,
   "id": "1d722e1d-8bca-4ecd-adb4-93b759b8db31",
   "metadata": {},
   "outputs": [
    {
     "name": "stdout",
     "output_type": "stream",
     "text": [
      "m series\n"
     ]
    }
   ],
   "source": [
    "print(cars[\"model\"])"
   ]
  },
  {
   "cell_type": "code",
   "execution_count": 5,
   "id": "7da97d90-68c9-4a32-8f55-4a5a7e97a714",
   "metadata": {},
   "outputs": [
    {
     "name": "stdout",
     "output_type": "stream",
     "text": [
      "m series\n"
     ]
    }
   ],
   "source": [
    "x=cars.get(\"model\")\n",
    "print(x)"
   ]
  },
  {
   "cell_type": "code",
   "execution_count": 28,
   "id": "24833486-c09e-4d42-a06d-070e1ad7d86a",
   "metadata": {},
   "outputs": [
    {
     "name": "stdout",
     "output_type": "stream",
     "text": [
      "dict_keys(['brand', 'model', 'year'])\n"
     ]
    }
   ],
   "source": [
    "cars={\n",
    "    \"brand\":\"BMW\",\n",
    "\"model\":\"m series\",\n",
    "\"year\":2023,\n",
    "}\n",
    "x=cars.keys()\n",
    "print(x)"
   ]
  },
  {
   "cell_type": "code",
   "execution_count": 15,
   "id": "6e3885e2-21c6-4520-a501-36e5baee868e",
   "metadata": {},
   "outputs": [
    {
     "name": "stdout",
     "output_type": "stream",
     "text": [
      "dict_values(['BMW', 'm series', 2023])\n"
     ]
    }
   ],
   "source": [
    "x = cars.values()\n",
    "print(x)"
   ]
  },
  {
   "cell_type": "code",
   "execution_count": 16,
   "id": "fe0be20d-ddb4-43ee-8a70-28d008b36dda",
   "metadata": {},
   "outputs": [
    {
     "name": "stdout",
     "output_type": "stream",
     "text": [
      "dict_items([('brand', 'BMW'), ('model', 'm series'), ('year', 2023)])\n"
     ]
    }
   ],
   "source": [
    "x = cars.items()\n",
    "print(x)"
   ]
  },
  {
   "cell_type": "code",
   "execution_count": 17,
   "id": "8b86b26c-fb6d-4dc8-9b6e-7ab9ccda1db5",
   "metadata": {},
   "outputs": [
    {
     "name": "stdout",
     "output_type": "stream",
     "text": [
      "{'brand': 'BMW', 'model': 'm series', 'year': 2024}\n"
     ]
    }
   ],
   "source": [
    "cars[\"year\"]=2024\n",
    "print(cars)"
   ]
  },
  {
   "cell_type": "code",
   "execution_count": 18,
   "id": "6946895a-1a77-4cd6-b008-e00b9b69bd45",
   "metadata": {},
   "outputs": [],
   "source": [
    "cars[\"seat\"] = 4 "
   ]
  },
  {
   "cell_type": "code",
   "execution_count": 19,
   "id": "f1e657d8-1d00-4c31-8a27-201faf8c3965",
   "metadata": {},
   "outputs": [
    {
     "name": "stdout",
     "output_type": "stream",
     "text": [
      "{'brand': 'BMW', 'model': 'm series', 'year': 2024, 'seat': 4}\n"
     ]
    }
   ],
   "source": [
    "print(cars)"
   ]
  },
  {
   "cell_type": "code",
   "execution_count": 20,
   "id": "30ca4aac-927f-4119-aca8-1c26730cc538",
   "metadata": {},
   "outputs": [],
   "source": [
    "cars.update({\"year\":2023})"
   ]
  },
  {
   "cell_type": "code",
   "execution_count": 21,
   "id": "cb380e3b-98c5-4dd5-9dd9-d8cb6b65bc88",
   "metadata": {},
   "outputs": [
    {
     "data": {
      "text/plain": [
       "{'brand': 'BMW', 'model': 'm series', 'year': 2023, 'seat': 4}"
      ]
     },
     "execution_count": 21,
     "metadata": {},
     "output_type": "execute_result"
    }
   ],
   "source": [
    "cars"
   ]
  },
  {
   "cell_type": "code",
   "execution_count": 22,
   "id": "3bb713b7-e509-4153-8700-0b3f7c8ab087",
   "metadata": {},
   "outputs": [
    {
     "data": {
      "text/plain": [
       "4"
      ]
     },
     "execution_count": 22,
     "metadata": {},
     "output_type": "execute_result"
    }
   ],
   "source": [
    "cars.pop(\"seat\")"
   ]
  },
  {
   "cell_type": "code",
   "execution_count": 23,
   "id": "727101ef-23f2-4ba3-8170-f35f40474d16",
   "metadata": {},
   "outputs": [
    {
     "data": {
      "text/plain": [
       "{'brand': 'BMW', 'model': 'm series', 'year': 2023}"
      ]
     },
     "execution_count": 23,
     "metadata": {},
     "output_type": "execute_result"
    }
   ],
   "source": [
    "cars"
   ]
  },
  {
   "cell_type": "code",
   "execution_count": 24,
   "id": "f6c68afb-64cc-4b84-b33c-d7b119ad8955",
   "metadata": {},
   "outputs": [],
   "source": [
    "del cars[\"year\"]"
   ]
  },
  {
   "cell_type": "code",
   "execution_count": 25,
   "id": "de4e371a-0f41-4fce-9018-d58c983f0511",
   "metadata": {},
   "outputs": [
    {
     "data": {
      "text/plain": [
       "{'brand': 'BMW', 'model': 'm series'}"
      ]
     },
     "execution_count": 25,
     "metadata": {},
     "output_type": "execute_result"
    }
   ],
   "source": [
    "cars"
   ]
  },
  {
   "cell_type": "code",
   "execution_count": 26,
   "id": "52a7743d-ec5a-4856-8982-bf04a34565d7",
   "metadata": {},
   "outputs": [],
   "source": [
    "cars.clear()"
   ]
  },
  {
   "cell_type": "code",
   "execution_count": 27,
   "id": "1c795146-91b5-4b9e-8b19-beb1ceeda447",
   "metadata": {},
   "outputs": [
    {
     "data": {
      "text/plain": [
       "{}"
      ]
     },
     "execution_count": 27,
     "metadata": {},
     "output_type": "execute_result"
    }
   ],
   "source": [
    "cars"
   ]
  },
  {
   "cell_type": "code",
   "execution_count": 57,
   "id": "8eee1088-4246-478f-b472-17d53d2d9d72",
   "metadata": {},
   "outputs": [
    {
     "name": "stdout",
     "output_type": "stream",
     "text": [
      "{'brand': 'bmw', 'model': 'm4', 'color': 'blue', 'year': 2022}\n"
     ]
    }
   ],
   "source": [
    "car={\n",
    "    \"brand\": 'bmw',\n",
    "    \"model\":\"m4\",\n",
    "    \"color\":\"blue\",\n",
    "    \"year\":2022,\n",
    "}\n",
    "print(car)\n"
   ]
  },
  {
   "cell_type": "code",
   "execution_count": 58,
   "id": "b114529c-9152-4b53-9169-98d3de229a70",
   "metadata": {},
   "outputs": [
    {
     "name": "stdout",
     "output_type": "stream",
     "text": [
      "bmw\n"
     ]
    }
   ],
   "source": [
    "print(car[\"brand\"])"
   ]
  },
  {
   "cell_type": "code",
   "execution_count": 59,
   "id": "e6d72b4f-ed9c-44a9-a1f7-b6ddc2afafd7",
   "metadata": {},
   "outputs": [
    {
     "data": {
      "text/plain": [
       "'m4'"
      ]
     },
     "execution_count": 59,
     "metadata": {},
     "output_type": "execute_result"
    }
   ],
   "source": [
    "x=car.get(\"model\")\n",
    "x"
   ]
  },
  {
   "cell_type": "code",
   "execution_count": 60,
   "id": "f52ab8c4-8149-4140-92b8-61d7ad9aaa96",
   "metadata": {},
   "outputs": [
    {
     "data": {
      "text/plain": [
       "dict_keys(['brand', 'model', 'color', 'year'])"
      ]
     },
     "execution_count": 60,
     "metadata": {},
     "output_type": "execute_result"
    }
   ],
   "source": [
    "x=car.keys()\n",
    "x"
   ]
  },
  {
   "cell_type": "code",
   "execution_count": 61,
   "id": "2722e1c7-84a7-4d2c-ba14-1c207d5ffafb",
   "metadata": {},
   "outputs": [
    {
     "data": {
      "text/plain": [
       "dict_values(['bmw', 'm4', 'blue', 2022])"
      ]
     },
     "execution_count": 61,
     "metadata": {},
     "output_type": "execute_result"
    }
   ],
   "source": [
    "x=car.values()\n",
    "x"
   ]
  },
  {
   "cell_type": "code",
   "execution_count": 63,
   "id": "17bdd8aa-1c2f-44db-bf50-5b9274831d2d",
   "metadata": {},
   "outputs": [
    {
     "name": "stdout",
     "output_type": "stream",
     "text": [
      "{'brand': 'bmw', 'model': 'm4', 'color': 'red', 'year': 2022}\n"
     ]
    }
   ],
   "source": [
    "car['color']=\"red\"\n",
    "print(car)"
   ]
  },
  {
   "cell_type": "code",
   "execution_count": 66,
   "id": "c8a0e780-1aef-4431-a6ea-0c2a1be6b3d4",
   "metadata": {},
   "outputs": [
    {
     "data": {
      "text/plain": [
       "{'brand': 'bmw', 'model': 'm4', 'color': 'red', 'year': 2022, 'seat': 4}"
      ]
     },
     "execution_count": 66,
     "metadata": {},
     "output_type": "execute_result"
    }
   ],
   "source": [
    "car[\"seat\"]=4\n",
    "car"
   ]
  },
  {
   "cell_type": "code",
   "execution_count": 67,
   "id": "124889f6-2708-4432-8d19-0f6fafe77ed9",
   "metadata": {},
   "outputs": [
    {
     "data": {
      "text/plain": [
       "dict_items([('brand', 'bmw'), ('model', 'm4'), ('color', 'red'), ('year', 2022), ('seat', 4)])"
      ]
     },
     "execution_count": 67,
     "metadata": {},
     "output_type": "execute_result"
    }
   ],
   "source": [
    "x=car.items()\n",
    "x"
   ]
  },
  {
   "cell_type": "code",
   "execution_count": 68,
   "id": "2230bcbb-f298-4cbd-a1de-3b664cd5d61a",
   "metadata": {},
   "outputs": [
    {
     "data": {
      "text/plain": [
       "dict_keys(['brand', 'model', 'color', 'year', 'seat'])"
      ]
     },
     "execution_count": 68,
     "metadata": {},
     "output_type": "execute_result"
    }
   ],
   "source": [
    "x=car.keys()\n",
    "x"
   ]
  },
  {
   "cell_type": "code",
   "execution_count": 69,
   "id": "f98492e8-f1af-47c1-ba66-d3f60bda995c",
   "metadata": {},
   "outputs": [
    {
     "name": "stdout",
     "output_type": "stream",
     "text": [
      "{'Brand': 'ford', 'Model': 'Mustang', 'Year': 1964, 'year': 2020}\n"
     ]
    }
   ],
   "source": [
    "car={\n",
    "    \"Brand\":\"ford\",\n",
    "    \"Model\":\"Mustang\",\n",
    "    \"Year\": 1964\n",
    "}\n",
    "car[\"year\"]=2020\n",
    "print(car)"
   ]
  },
  {
   "cell_type": "code",
   "execution_count": 73,
   "id": "fa9c1393-8d04-4d00-ac66-8d4400fd493c",
   "metadata": {},
   "outputs": [
    {
     "data": {
      "text/plain": [
       "{'Brand': 'ford', 'Model': 'Mustang', 'Year': 2023}"
      ]
     },
     "execution_count": 73,
     "metadata": {},
     "output_type": "execute_result"
    }
   ],
   "source": [
    "car.update({\"Year\":2023})\n",
    "car"
   ]
  },
  {
   "cell_type": "code",
   "execution_count": 76,
   "id": "fdec28f4-c8a6-4329-bcc4-abd4f232a815",
   "metadata": {},
   "outputs": [
    {
     "name": "stdout",
     "output_type": "stream",
     "text": [
      "{'Brand': 'ford'}\n"
     ]
    }
   ],
   "source": [
    "car.popitem()\n",
    "print(car)"
   ]
  },
  {
   "cell_type": "code",
   "execution_count": 84,
   "id": "d4f2a4d1-6799-4541-a3a5-a727d24179dc",
   "metadata": {},
   "outputs": [
    {
     "data": {
      "text/plain": [
       "{'Brand': 'ford', 'Year': 1964}"
      ]
     },
     "execution_count": 84,
     "metadata": {},
     "output_type": "execute_result"
    }
   ],
   "source": [
    "car={\n",
    "    \"Brand\":\"ford\",\n",
    "    \"Model\":\"Mustang\",\n",
    "    \"Year\": 1964\n",
    "}\n",
    "del car[\"Model\"]\n",
    "car"
   ]
  },
  {
   "cell_type": "code",
   "execution_count": 85,
   "id": "030f5fa6-82da-4979-9ddf-40516b23d1ef",
   "metadata": {},
   "outputs": [
    {
     "data": {
      "text/plain": [
       "{'Brand': 'ford', 'Model': 'Mustang', 'Year': 1964}"
      ]
     },
     "execution_count": 85,
     "metadata": {},
     "output_type": "execute_result"
    }
   ],
   "source": [
    "car={\n",
    "    \"Brand\":\"ford\",\n",
    "    \"Model\":\"Mustang\",\n",
    "    \"Year\": 1964\n",
    "}\n",
    "x=car.copy()\n",
    "x"
   ]
  },
  {
   "cell_type": "code",
   "execution_count": 86,
   "id": "74daeda4-b1a0-4f32-b5c8-f8a4f01153dc",
   "metadata": {},
   "outputs": [
    {
     "data": {
      "text/plain": [
       "{'Brand': 'ford', 'Model': 'Mustang', 'Year': 1964}"
      ]
     },
     "execution_count": 86,
     "metadata": {},
     "output_type": "execute_result"
    }
   ],
   "source": [
    "x=dict(car)\n",
    "x"
   ]
  },
  {
   "cell_type": "code",
   "execution_count": 100,
   "id": "c5c86160-0ac7-41a4-ac97-4524ee63b170",
   "metadata": {},
   "outputs": [
    {
     "name": "stdout",
     "output_type": "stream",
     "text": [
      "{'child1': {'name': 'arun', 'year': 2000}, 'child2': {'name': 'amal', 'year': 2002}, 'child3': {'name': 'ashok', 'year': 2003}, 'friends': {'child1': {'name': 'arun', 'year': 2000}, 'child2': {'name': 'amal', 'year': 2002}, 'child3': {'name': 'ashok', 'year': 2003}}}\n"
     ]
    }
   ],
   "source": [
    "m = {\n",
    "    \"child1\": {\n",
    "        \"name\": \"arun\",\n",
    "        \"year\": 2000\n",
    "    },\n",
    "    \"child2\": {\n",
    "        \"name\": \"amal\",\n",
    "        \"year\": 2002\n",
    "    },\n",
    "    \"child3\": {\n",
    "        \"name\": \"ashok\",\n",
    "        \"year\": 2003\n",
    "    },\n",
    "    \"friends\": {\n",
    "        \"child1\": {\n",
    "            \"name\": \"arun\",\n",
    "            \"year\": 2000\n",
    "        },\n",
    "        \"child2\": {\n",
    "            \"name\": \"amal\",\n",
    "            \"year\": 2002\n",
    "        },\n",
    "        \"child3\": {\n",
    "            \"name\": \"ashok\",\n",
    "            \"year\": 2003\n",
    "        }\n",
    "    }\n",
    "}\n",
    "\n",
    "print(m)\n"
   ]
  },
  {
   "cell_type": "code",
   "execution_count": 105,
   "id": "b97bd8ea-ec5b-494b-9737-6048d6d8f3be",
   "metadata": {},
   "outputs": [
    {
     "name": "stdout",
     "output_type": "stream",
     "text": [
      "b is greater than a\n"
     ]
    }
   ],
   "source": [
    "a=33\n",
    "b=200\n",
    "if a<b:\n",
    "    print(\"b is greater than a\")"
   ]
  },
  {
   "cell_type": "code",
   "execution_count": 110,
   "id": "41edf6c9-ad67-4ee3-8c9c-a8d9c159b8c7",
   "metadata": {},
   "outputs": [
    {
     "name": "stdout",
     "output_type": "stream",
     "text": [
      "b is greater than a\n"
     ]
    }
   ],
   "source": [
    "a=500\n",
    "b=300\n",
    "if b<a:\n",
    "    print(\"b is greater than a\")"
   ]
  },
  {
   "cell_type": "code",
   "execution_count": 113,
   "id": "4379c881-2c0f-4402-b8da-c68cdd067f51",
   "metadata": {},
   "outputs": [
    {
     "name": "stdout",
     "output_type": "stream",
     "text": [
      "a and b are equal\n"
     ]
    }
   ],
   "source": [
    "a=33\n",
    "b=33\n",
    "if b>a:\n",
    "    print(\"b is greater than a\")\n",
    "elif a==b:\n",
    "    print(\"a and b are equal\")"
   ]
  },
  {
   "cell_type": "code",
   "execution_count": 116,
   "id": "3609a684-5ad5-42bb-b792-f0a7e7229e29",
   "metadata": {},
   "outputs": [
    {
     "name": "stdout",
     "output_type": "stream",
     "text": [
      "a is greater than b\n"
     ]
    }
   ],
   "source": [
    "a=200\n",
    "b=33\n",
    "if b>a:\n",
    "    print(\"b is greater than a\")\n",
    "elif a==b:\n",
    "    print(\"a and b are equal\")\n",
    "else :\n",
    "    print(\"a is greater than b\")"
   ]
  },
  {
   "cell_type": "code",
   "execution_count": 117,
   "id": "2f2fb1c1-e237-4c5d-b4d2-435c5132f993",
   "metadata": {},
   "outputs": [
    {
     "name": "stdout",
     "output_type": "stream",
     "text": [
      "b\n"
     ]
    }
   ],
   "source": [
    "a=2\n",
    "b=33\n",
    "print(\"A\") if a>b else print(\"b\")"
   ]
  },
  {
   "cell_type": "code",
   "execution_count": 120,
   "id": "b72e971c-c451-457f-965f-f3cd6f51ba59",
   "metadata": {},
   "outputs": [
    {
     "name": "stdout",
     "output_type": "stream",
     "text": [
      "both condition are true\n"
     ]
    }
   ],
   "source": [
    "a=200\n",
    "b=101\n",
    "c=400\n",
    "if a>b and b<c:\n",
    "    print(\"both condition are true\")"
   ]
  },
  {
   "cell_type": "code",
   "execution_count": 126,
   "id": "a992997b-b3be-400b-b2e9-07e1186820a4",
   "metadata": {},
   "outputs": [
    {
     "name": "stdout",
     "output_type": "stream",
     "text": [
      "atleast 1 is true\n"
     ]
    }
   ],
   "source": [
    "a=200\n",
    "b=33\n",
    "c=500\n",
    "if a<b or a<c:\n",
    "    print(\"atleast 1 is true\")"
   ]
  },
  {
   "cell_type": "code",
   "execution_count": 133,
   "id": "f2a81060-297f-4020-99fd-ed94bd4f7fe8",
   "metadata": {},
   "outputs": [
    {
     "name": "stdout",
     "output_type": "stream",
     "text": [
      "above 10\n",
      "above 20\n"
     ]
    }
   ],
   "source": [
    "x=41\n",
    "if x>10:\n",
    "    print(\"above 10\")\n",
    "if x>20:\n",
    "    print(\"above 20\")\n",
    "else:\n",
    "    print(\"not above 20\")\n"
   ]
  },
  {
   "cell_type": "code",
   "execution_count": 134,
   "id": "2b04690f-e336-4ffc-bc55-0f0f16f84891",
   "metadata": {},
   "outputs": [
    {
     "ename": "IndentationError",
     "evalue": "expected an indented block after 'if' statement on line 3 (3356842761.py, line 4)",
     "output_type": "error",
     "traceback": [
      "\u001b[1;36m  Cell \u001b[1;32mIn[134], line 4\u001b[1;36m\u001b[0m\n\u001b[1;33m    print(\"hi\")\u001b[0m\n\u001b[1;37m    ^\u001b[0m\n\u001b[1;31mIndentationError\u001b[0m\u001b[1;31m:\u001b[0m expected an indented block after 'if' statement on line 3\n"
     ]
    }
   ],
   "source": [
    "a=323\n",
    "b=345\n",
    "if a>b:\n",
    "    pass\n",
    "print(\"hi\")"
   ]
  },
  {
   "cell_type": "code",
   "execution_count": null,
   "id": "4344e328-e3ec-4c9d-a59f-44e32c7e547f",
   "metadata": {},
   "outputs": [],
   "source": []
  }
 ],
 "metadata": {
  "kernelspec": {
   "display_name": "Python 3 (ipykernel)",
   "language": "python",
   "name": "python3"
  },
  "language_info": {
   "codemirror_mode": {
    "name": "ipython",
    "version": 3
   },
   "file_extension": ".py",
   "mimetype": "text/x-python",
   "name": "python",
   "nbconvert_exporter": "python",
   "pygments_lexer": "ipython3",
   "version": "3.12.8"
  }
 },
 "nbformat": 4,
 "nbformat_minor": 5
}
