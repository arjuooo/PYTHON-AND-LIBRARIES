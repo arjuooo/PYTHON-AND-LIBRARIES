{
 "cells": [
  {
   "cell_type": "code",
   "execution_count": 1,
   "id": "947669e6-589f-41c0-94de-e0f3f886c411",
   "metadata": {},
   "outputs": [
    {
     "name": "stdout",
     "output_type": "stream",
     "text": [
      "('x', 'y', 'z')\n"
     ]
    }
   ],
   "source": [
    "a=(\"x\",\"y\",\"z\")\n",
    "print(a)"
   ]
  },
  {
   "cell_type": "code",
   "execution_count": 2,
   "id": "6370b492-3b43-484d-87f6-c529371c4ae8",
   "metadata": {},
   "outputs": [
    {
     "name": "stdout",
     "output_type": "stream",
     "text": [
      "3\n"
     ]
    }
   ],
   "source": [
    "a=(\"x\",\"y\",\"z\")\n",
    "print(len(a))"
   ]
  },
  {
   "cell_type": "code",
   "execution_count": 15,
   "id": "5a55f74f-609a-46d4-935e-1e899b780b6d",
   "metadata": {},
   "outputs": [
    {
     "name": "stdout",
     "output_type": "stream",
     "text": [
      "<class 'tuple'>\n"
     ]
    }
   ],
   "source": [
    "a=(\"abc\",34,True,40,\"male\")\n",
    "print(type(a))"
   ]
  },
  {
   "cell_type": "code",
   "execution_count": 6,
   "id": "36c63f73-1862-441d-9c46-927b624e63b7",
   "metadata": {},
   "outputs": [
    {
     "name": "stdout",
     "output_type": "stream",
     "text": [
      "<class 'tuple'>\n"
     ]
    }
   ],
   "source": [
    "fruits=(\"apple\",\"orange\",\"cherry\")\n",
    "print(type(fruits))"
   ]
  },
  {
   "cell_type": "code",
   "execution_count": 8,
   "id": "9d032610-4fc4-4a63-84ef-ba2b8927461a",
   "metadata": {},
   "outputs": [
    {
     "name": "stdout",
     "output_type": "stream",
     "text": [
      "34\n"
     ]
    }
   ],
   "source": [
    "a=(\"abc\",34,True,40,\"male\")\n",
    "print(a[1])"
   ]
  },
  {
   "cell_type": "code",
   "execution_count": 9,
   "id": "23eaa409-1bb5-4c44-bf11-3ede2ccdcefb",
   "metadata": {},
   "outputs": [
    {
     "name": "stdout",
     "output_type": "stream",
     "text": [
      "40\n"
     ]
    }
   ],
   "source": [
    "a=(\"abc\",34,True,40,\"male\")\n",
    "print(a[-2])"
   ]
  },
  {
   "cell_type": "code",
   "execution_count": 13,
   "id": "503552c5-3360-4a0f-afc0-805dd2fa2bf6",
   "metadata": {},
   "outputs": [
    {
     "name": "stdout",
     "output_type": "stream",
     "text": [
      "('abc', 'Gtr', True, 40, 'male')\n"
     ]
    }
   ],
   "source": [
    "x=(\"abc\",34,True,40,\"male\")\n",
    "y=list(x)\n",
    "y[1]=\"Gtr\"\n",
    "x=tuple(y)\n",
    "print(x)"
   ]
  },
  {
   "cell_type": "code",
   "execution_count": 17,
   "id": "809347b3-65ec-4ce7-b144-944adbf6393d",
   "metadata": {},
   "outputs": [
    {
     "name": "stdout",
     "output_type": "stream",
     "text": [
      "A\n",
      "B\n",
      "C\n"
     ]
    }
   ],
   "source": [
    "a=('A','B','C')\n",
    "(x,y,z)=a\n",
    "print(x)\n",
    "print(y)\n",
    "print(z)"
   ]
  },
  {
   "cell_type": "code",
   "execution_count": 27,
   "id": "1fdbc20e-80d8-4e5d-9edd-beb585b65b0b",
   "metadata": {},
   "outputs": [
    {
     "name": "stdout",
     "output_type": "stream",
     "text": [
      "2\n"
     ]
    }
   ],
   "source": [
    "a=(\"abc\",34,True,40,\"male\",\"male\")\n",
    "print(a.count(\"male\"))"
   ]
  },
  {
   "cell_type": "code",
   "execution_count": 30,
   "id": "6d574868-3b34-4e96-8b37-f59b809742c9",
   "metadata": {},
   "outputs": [
    {
     "name": "stdout",
     "output_type": "stream",
     "text": [
      "89\n"
     ]
    }
   ],
   "source": [
    "m=(45,27,63,49,89,16)\n",
    "print(max(m))"
   ]
  },
  {
   "cell_type": "code",
   "execution_count": 34,
   "id": "9aacc9b8-2785-474d-b949-a22b1f11cf8b",
   "metadata": {},
   "outputs": [
    {
     "name": "stdout",
     "output_type": "stream",
     "text": [
      "3\n"
     ]
    }
   ],
   "source": [
    "m=(3,74,34,43,9,14)\n",
    "print(min(m))"
   ]
  },
  {
   "cell_type": "code",
   "execution_count": 35,
   "id": "c6909b84-93f9-4029-903e-a80b08e53b33",
   "metadata": {},
   "outputs": [
    {
     "name": "stdout",
     "output_type": "stream",
     "text": [
      "177\n"
     ]
    }
   ],
   "source": [
    "m=(3,74,34,43,9,14)\n",
    "print(sum(m))"
   ]
  },
  {
   "cell_type": "code",
   "execution_count": 47,
   "id": "20827ede-1626-41e5-93f4-65510baebef8",
   "metadata": {},
   "outputs": [
    {
     "name": "stdout",
     "output_type": "stream",
     "text": [
      "True\n"
     ]
    }
   ],
   "source": [
    "m=()\n",
    "y=(1,4,3)\n",
    "print(any(y))"
   ]
  },
  {
   "cell_type": "code",
   "execution_count": 49,
   "id": "0fa5350d-6e88-4bb7-9138-4b6166ad9a7c",
   "metadata": {},
   "outputs": [
    {
     "name": "stdout",
     "output_type": "stream",
     "text": [
      "False\n"
     ]
    }
   ],
   "source": [
    "m=(1,False,3)\n",
    "print(all(m))"
   ]
  },
  {
   "cell_type": "code",
   "execution_count": 52,
   "id": "26a12b0f-eb84-45f6-b91a-73eee99e4e84",
   "metadata": {},
   "outputs": [
    {
     "name": "stdout",
     "output_type": "stream",
     "text": [
      "[342, 504, 674, 804, 847]\n"
     ]
    }
   ],
   "source": [
    "m=(847,804,504,674,342)\n",
    "print(sorted(m))"
   ]
  },
  {
   "cell_type": "code",
   "execution_count": 54,
   "id": "54d1d01c-5f3e-4925-a21a-ebe7ae0ffe32",
   "metadata": {},
   "outputs": [
    {
     "name": "stdout",
     "output_type": "stream",
     "text": [
      "3\n"
     ]
    }
   ],
   "source": [
    "m=(108,564,245,489,674,342)\n",
    "print(m.index(489))"
   ]
  },
  {
   "cell_type": "code",
   "execution_count": 57,
   "id": "2308364e-eff6-4a41-bafa-d3b525ac7184",
   "metadata": {},
   "outputs": [
    {
     "name": "stdout",
     "output_type": "stream",
     "text": [
      "4\n"
     ]
    }
   ],
   "source": [
    "a=(674,674,342,564,245,489,674,342,674,342)\n",
    "print(a.count(674))"
   ]
  },
  {
   "cell_type": "code",
   "execution_count": 64,
   "id": "2133436c-1d57-4bd1-8c0c-3d84ff67345c",
   "metadata": {},
   "outputs": [
    {
     "name": "stdout",
     "output_type": "stream",
     "text": [
      "[674, 342, 564, 245, 489, 674, 342, 674, 342]\n"
     ]
    }
   ],
   "source": [
    "a=[674,674,342,564,245,489,674,342,674,342]\n",
    "a.remove(674)\n",
    "print(a)"
   ]
  },
  {
   "cell_type": "code",
   "execution_count": 73,
   "id": "fa020e24-7cbf-4198-b04d-ab14488916f5",
   "metadata": {},
   "outputs": [
    {
     "name": "stdout",
     "output_type": "stream",
     "text": [
      "['a', 'b', 'c', 'd', 'e', 'f']\n"
     ]
    }
   ],
   "source": [
    "x=[\"a\",\"b\",\"c\"]\n",
    "y=(\"d\",\"e\",\"f\")\n",
    "x.extend(y)\n",
    "print(x)"
   ]
  },
  {
   "cell_type": "code",
   "execution_count": 74,
   "id": "53b230b8-ef58-4ffd-9816-9af1ea228786",
   "metadata": {},
   "outputs": [
    {
     "name": "stdout",
     "output_type": "stream",
     "text": [
      "1\n"
     ]
    }
   ],
   "source": [
    "x=(\"a\",\"b\",\"c\")\n",
    "print(x.count(\"b\"))"
   ]
  },
  {
   "cell_type": "code",
   "execution_count": 81,
   "id": "57ba57cd-dcd9-4b84-89e5-77eb81c54075",
   "metadata": {},
   "outputs": [
    {
     "name": "stdout",
     "output_type": "stream",
     "text": [
      "('a', 'b', 'c')\n"
     ]
    }
   ],
   "source": [
    "x=(\"a\",\"d\",\"c\",)\n",
    "y=list(x)\n",
    "y[1]=\"b\"\n",
    "x=tuple(y)\n",
    "print(x)"
   ]
  },
  {
   "cell_type": "code",
   "execution_count": 95,
   "id": "3c711984-309b-4f52-947a-b2c2b4be679d",
   "metadata": {},
   "outputs": [
    {
     "name": "stdout",
     "output_type": "stream",
     "text": [
      "True\n"
     ]
    }
   ],
   "source": [
    "x=(-1,0,False)\n",
    "print(any(x))"
   ]
  },
  {
   "cell_type": "code",
   "execution_count": 88,
   "id": "aa5183be-37b8-4d3d-b851-af98ecca2b3b",
   "metadata": {},
   "outputs": [
    {
     "name": "stdout",
     "output_type": "stream",
     "text": [
      "True\n"
     ]
    }
   ],
   "source": [
    "m=(1,True,3)\n",
    "print(all(m))"
   ]
  },
  {
   "cell_type": "code",
   "execution_count": 102,
   "id": "fe1efa10-5476-4f7e-9f45-001a8867aa79",
   "metadata": {},
   "outputs": [],
   "source": [
    "a={1,2,3,4,5,5}"
   ]
  },
  {
   "cell_type": "code",
   "execution_count": 103,
   "id": "4265fab4-d6e4-4975-89e9-12226cdd27d5",
   "metadata": {},
   "outputs": [
    {
     "name": "stdout",
     "output_type": "stream",
     "text": [
      "{1, 2, 3, 4, 5}\n"
     ]
    }
   ],
   "source": [
    "print(a)"
   ]
  },
  {
   "cell_type": "code",
   "execution_count": 105,
   "id": "a3ff2fcb-a182-4825-bc48-55066e421b93",
   "metadata": {},
   "outputs": [
    {
     "name": "stdout",
     "output_type": "stream",
     "text": [
      "{'b', 'a', 'c'}\n"
     ]
    }
   ],
   "source": [
    "x={\"a\",\"b\",\"c\"}\n",
    "print(x)"
   ]
  },
  {
   "cell_type": "code",
   "execution_count": 113,
   "id": "ed9669ac-a13f-499f-876b-4f47b2e9f016",
   "metadata": {},
   "outputs": [
    {
     "name": "stdout",
     "output_type": "stream",
     "text": [
      "guvava\n",
      "apple\n",
      "orange\n"
     ]
    }
   ],
   "source": [
    "fruit={\"apple\",\"orange\",\"guvava\"}\n",
    "for x in fruit:\n",
    "    print(x)"
   ]
  },
  {
   "cell_type": "code",
   "execution_count": 114,
   "id": "fbb8d4e9-0e35-4892-8a3d-8a452f0bd5c6",
   "metadata": {},
   "outputs": [
    {
     "name": "stdout",
     "output_type": "stream",
     "text": [
      "{'o', 'b', 'a', 'c'}\n"
     ]
    }
   ],
   "source": [
    "x={\"a\",\"b\",\"c\"}\n",
    "x.add(\"o\")\n",
    "print(x)"
   ]
  },
  {
   "cell_type": "code",
   "execution_count": 116,
   "id": "0ee79521-9118-4068-b110-da077a5f59cb",
   "metadata": {},
   "outputs": [
    {
     "name": "stdout",
     "output_type": "stream",
     "text": [
      "{'x', 'i', 'm', 'y', 'z'}\n"
     ]
    }
   ],
   "source": [
    "a={\"x\",\"y\",\"z\"}\n",
    "m=[\"i\",\"m\"]\n",
    "a.update(m)\n",
    "print(a)"
   ]
  },
  {
   "cell_type": "code",
   "execution_count": 120,
   "id": "03b1abf2-7d4d-4c83-b2bb-693b7f420d45",
   "metadata": {},
   "outputs": [
    {
     "name": "stdout",
     "output_type": "stream",
     "text": [
      "{'5', '1', '3', '2'}\n"
     ]
    }
   ],
   "source": [
    "a={\"1\",\"2\",\"3\",\"4\",\"5\",}\n",
    "a.discard(\"4\")\n",
    "print(a)"
   ]
  },
  {
   "cell_type": "code",
   "execution_count": 121,
   "id": "64525427-9927-4f15-b273-1b6fb3b471ce",
   "metadata": {},
   "outputs": [
    {
     "name": "stdout",
     "output_type": "stream",
     "text": [
      "set()\n"
     ]
    }
   ],
   "source": [
    "m={\"x\",\"y\",\"z\"}\n",
    "m.clear()\n",
    "print(m)"
   ]
  },
  {
   "cell_type": "code",
   "execution_count": 204,
   "id": "da5c0362-4c33-4ed1-9c93-03bbb6ba9378",
   "metadata": {},
   "outputs": [
    {
     "ename": "NameError",
     "evalue": "name 'fruit' is not defined",
     "output_type": "error",
     "traceback": [
      "\u001b[1;31m---------------------------------------------------------------------------\u001b[0m",
      "\u001b[1;31mNameError\u001b[0m                                 Traceback (most recent call last)",
      "Cell \u001b[1;32mIn[204], line 3\u001b[0m\n\u001b[0;32m      1\u001b[0m fruit\u001b[38;5;241m=\u001b[39m{\u001b[38;5;124m\"\u001b[39m\u001b[38;5;124mapple\u001b[39m\u001b[38;5;124m\"\u001b[39m,\u001b[38;5;124m\"\u001b[39m\u001b[38;5;124morange\u001b[39m\u001b[38;5;124m\"\u001b[39m,\u001b[38;5;124m\"\u001b[39m\u001b[38;5;124mguvava\u001b[39m\u001b[38;5;124m\"\u001b[39m}\n\u001b[0;32m      2\u001b[0m \u001b[38;5;28;01mdel\u001b[39;00m fruit\n\u001b[1;32m----> 3\u001b[0m \u001b[38;5;28mprint\u001b[39m(\u001b[43mfruit\u001b[49m)\n",
      "\u001b[1;31mNameError\u001b[0m: name 'fruit' is not defined"
     ]
    }
   ],
   "source": [
    "fruit={\"apple\",\"orange\",\"guvava\"}\n",
    "del fruit\n",
    "print(fruit)"
   ]
  },
  {
   "cell_type": "code",
   "execution_count": 133,
   "id": "6ea74e6a-8e97-40ce-ab0f-a6471d3c7d37",
   "metadata": {},
   "outputs": [
    {
     "name": "stdout",
     "output_type": "stream",
     "text": [
      "{'a', 'c'}\n"
     ]
    }
   ],
   "source": [
    "a={\"a\",\"b\",\"c\"}\n",
    "b=a.pop()\n",
    "print(a)"
   ]
  },
  {
   "cell_type": "code",
   "execution_count": 136,
   "id": "aebea3bf-8043-4b79-bdbc-c1fd15ab4ce0",
   "metadata": {},
   "outputs": [
    {
     "name": "stdout",
     "output_type": "stream",
     "text": [
      "{'x', 1, 2, 3, 'y', 'z'}\n"
     ]
    }
   ],
   "source": [
    "a={\"x\",\"y\",\"z\"}\n",
    "b={1,2,3}\n",
    "c=a.union(b)\n",
    "print(c)"
   ]
  },
  {
   "cell_type": "code",
   "execution_count": 137,
   "id": "c4bbb194-bcf9-475b-9d4d-52485b0a0d6b",
   "metadata": {},
   "outputs": [
    {
     "name": "stdout",
     "output_type": "stream",
     "text": [
      "{1, 2, 3, 4, 'c', 'b', 'a'}\n"
     ]
    }
   ],
   "source": [
    "x={\"a\",\"b\",\"c\"}\n",
    "y={1,2,3,4}\n",
    "x.update(y)\n",
    "print(x)"
   ]
  },
  {
   "cell_type": "code",
   "execution_count": 139,
   "id": "17d9ddad-7635-4d38-a56b-faa187e713ab",
   "metadata": {},
   "outputs": [
    {
     "name": "stdout",
     "output_type": "stream",
     "text": [
      "{'a'}\n"
     ]
    }
   ],
   "source": [
    "x={\"a\",\"b\",\"c\"}\n",
    "y={\"g\",\"m\",\"a\"}\n",
    "x.intersection_update(y)\n",
    "print(x)"
   ]
  },
  {
   "cell_type": "code",
   "execution_count": 141,
   "id": "ce25dbf9-6924-48f5-a412-46f79cef157c",
   "metadata": {},
   "outputs": [
    {
     "name": "stdout",
     "output_type": "stream",
     "text": [
      "{'a'}\n"
     ]
    }
   ],
   "source": [
    "x={\"a\",\"b\",\"c\"}\n",
    "y={\"g\",\"m\",\"a\"}\n",
    "z=x.intersection(y)\n",
    "print(z)"
   ]
  },
  {
   "cell_type": "code",
   "execution_count": 142,
   "id": "3ab0a440-8696-4612-9cbf-727b51074d78",
   "metadata": {},
   "outputs": [
    {
     "name": "stdout",
     "output_type": "stream",
     "text": [
      "{'g', 'b', 'c', 'm'}\n"
     ]
    }
   ],
   "source": [
    "x={\"a\",\"b\",\"c\"}\n",
    "y={\"g\",\"m\",\"a\"}\n",
    "x.symmetric_difference_update(y)\n",
    "print(x)"
   ]
  },
  {
   "cell_type": "code",
   "execution_count": 143,
   "id": "181c3f77-db05-43ec-a0b9-03fd14ef56a9",
   "metadata": {},
   "outputs": [
    {
     "name": "stdout",
     "output_type": "stream",
     "text": [
      "{'g', 'b', 'c', 'm'}\n"
     ]
    }
   ],
   "source": [
    "x={\"a\",\"b\",\"c\"}\n",
    "y={\"g\",\"m\",\"a\"}\n",
    "z=x.symmetric_difference(y)\n",
    "print(z)"
   ]
  },
  {
   "cell_type": "code",
   "execution_count": 157,
   "id": "58c04683-ed9e-4f9c-b3cb-4d5ffb3e4187",
   "metadata": {},
   "outputs": [
    {
     "name": "stdout",
     "output_type": "stream",
     "text": [
      "True\n"
     ]
    }
   ],
   "source": [
    "x={\"a\",\"b\",\"c\"}\n",
    "y={\"p\",\"q\",\"r\"}\n",
    "z=x.isdisjoint(y)\n",
    "print(z)"
   ]
  },
  {
   "cell_type": "code",
   "execution_count": 160,
   "id": "4f9e87a9-f573-4fcc-8822-428b56e227f9",
   "metadata": {},
   "outputs": [
    {
     "name": "stdout",
     "output_type": "stream",
     "text": [
      "False\n"
     ]
    }
   ],
   "source": [
    "x={\"a\",\"b\",\"c\",\"d\"}\n",
    "y={\"a\",\"b\",\"c\"}\n",
    "z=x.issubset(y)\n",
    "print(z)"
   ]
  },
  {
   "cell_type": "code",
   "execution_count": 161,
   "id": "5276524f-5d81-492b-8b62-a360e596a2fe",
   "metadata": {},
   "outputs": [
    {
     "name": "stdout",
     "output_type": "stream",
     "text": [
      "True\n"
     ]
    }
   ],
   "source": [
    "x = {\"a\", \"b\", \"c\"}\n",
    "y = {\"a\", \"b\", \"c\"}\n",
    "z= x.issuperset(y)  \n",
    "print(z)  "
   ]
  },
  {
   "cell_type": "code",
   "execution_count": 170,
   "id": "010c0a03-2f6a-4e2a-813d-50fa74fec908",
   "metadata": {},
   "outputs": [
    {
     "name": "stdout",
     "output_type": "stream",
     "text": [
      "['a', 'c']\n"
     ]
    }
   ],
   "source": [
    "m=[\"a\",\"b\",\"c\"]\n",
    "del m[1]\n",
    "print(m)"
   ]
  },
  {
   "cell_type": "code",
   "execution_count": 174,
   "id": "ef44e1ef-a37b-4fe3-9831-dc3b0e3c9486",
   "metadata": {},
   "outputs": [
    {
     "name": "stdout",
     "output_type": "stream",
     "text": [
      "{'x', 'y'}\n"
     ]
    }
   ],
   "source": [
    "m={\"x\",\"y\",\"z\"}\n",
    "m.discard(\"z\")\n",
    "print(m)"
   ]
  },
  {
   "cell_type": "code",
   "execution_count": 181,
   "id": "ae5b1d69-12ea-46d8-89c7-95ae872a37bf",
   "metadata": {},
   "outputs": [
    {
     "name": "stdout",
     "output_type": "stream",
     "text": [
      "{'y', 'z'}\n"
     ]
    }
   ],
   "source": [
    "a={\"x\",\"y\",\"z\"}\n",
    "a.pop()\n",
    "print(a)"
   ]
  },
  {
   "cell_type": "code",
   "execution_count": 184,
   "id": "a6a42fb5-45b1-4adc-b873-84b943abed98",
   "metadata": {},
   "outputs": [
    {
     "name": "stdout",
     "output_type": "stream",
     "text": [
      "{'x', 1, 2, 3, 4, 5, 'y', 'z'}\n"
     ]
    }
   ],
   "source": [
    "x={\"x\",\"y\",\"z\"}\n",
    "y={1,2,3,4,5}\n",
    "x.update(y)\n",
    "print(x)"
   ]
  },
  {
   "cell_type": "code",
   "execution_count": 192,
   "id": "4f22a4aa-c3c7-4595-b32d-8f73f904a7be",
   "metadata": {},
   "outputs": [
    {
     "name": "stdout",
     "output_type": "stream",
     "text": [
      "{'x'}\n"
     ]
    }
   ],
   "source": [
    "x={\"x\",\"y\",\"z\"}\n",
    "y={\"g\",\"m\",\"x\"}\n",
    "z=x.intersection(y)\n",
    "print(z)"
   ]
  },
  {
   "cell_type": "code",
   "execution_count": 210,
   "id": "a6480f82-de2e-4def-a84a-b75d8b368984",
   "metadata": {},
   "outputs": [
    {
     "name": "stdout",
     "output_type": "stream",
     "text": [
      "{'x', 'y', 'z'}\n"
     ]
    }
   ],
   "source": [
    "x={\"x\",\"y\",\"z\"}\n",
    "y={'h','y','j'}\n",
    "x.symmetric_difference(y)\n",
    "print(x)"
   ]
  },
  {
   "cell_type": "code",
   "execution_count": 209,
   "id": "5a7246f6-1680-4b6d-9d56-735b9203ac7a",
   "metadata": {},
   "outputs": [
    {
     "name": "stdout",
     "output_type": "stream",
     "text": [
      "{'x', 'h', 'z'}\n"
     ]
    },
    {
     "data": {
      "text/plain": [
       "{'h', 'y'}"
      ]
     },
     "execution_count": 209,
     "metadata": {},
     "output_type": "execute_result"
    }
   ],
   "source": [
    "x={\"x\",\"y\",\"z\"}\n",
    "y={'h','y'}\n",
    "x.symmetric_difference_update(y)\n",
    "print(x)\n",
    "y"
   ]
  },
  {
   "cell_type": "code",
   "execution_count": 212,
   "id": "924bef31-3943-4177-bcbe-4a22e7ffb3b2",
   "metadata": {},
   "outputs": [
    {
     "name": "stdout",
     "output_type": "stream",
     "text": [
      "frozenset object is: frozenset({1, 2, 3, 4, 5})\n"
     ]
    }
   ],
   "source": [
    "n={1,2,3,4,5}\n",
    "o=frozenset(n)\n",
    "print(\"frozenset object is:\",o)"
   ]
  },
  {
   "cell_type": "code",
   "execution_count": null,
   "id": "64c49170-c2d6-4d59-b2f2-9ae2e1fe18c6",
   "metadata": {},
   "outputs": [],
   "source": []
  }
 ],
 "metadata": {
  "kernelspec": {
   "display_name": "Python 3 (ipykernel)",
   "language": "python",
   "name": "python3"
  },
  "language_info": {
   "codemirror_mode": {
    "name": "ipython",
    "version": 3
   },
   "file_extension": ".py",
   "mimetype": "text/x-python",
   "name": "python",
   "nbconvert_exporter": "python",
   "pygments_lexer": "ipython3",
   "version": "3.12.8"
  }
 },
 "nbformat": 4,
 "nbformat_minor": 5
}
