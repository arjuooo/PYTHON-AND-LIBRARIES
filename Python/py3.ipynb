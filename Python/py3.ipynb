{
 "cells": [
  {
   "cell_type": "code",
   "execution_count": 15,
   "id": "1467ab5c-6da8-48f0-b662-0b7a94e69b32",
   "metadata": {},
   "outputs": [
    {
     "name": "stdout",
     "output_type": "stream",
     "text": [
      "square:100\n",
      "cube:1000\n",
      "done\n"
     ]
    }
   ],
   "source": [
    "import threading\n",
    "def cube(num):\n",
    "    print(\"cube:{}\".format(num*num*num))\n",
    "def square(num):\n",
    "    print(\"square:{}\".format(num*num))\n",
    "if __name__=='__main__':\n",
    "    t1=threading.Thread(target=square,args=(10,))\n",
    "    t2=threading.Thread(target=cube,args=(10,))\n",
    "    t1.start()\n",
    "    t2.start()\n",
    "    t1.join()\n",
    "    t2.join()\n",
    "    print(\"done\")"
   ]
  },
  {
   "cell_type": "code",
   "execution_count": 47,
   "id": "34a1e3dc-edfb-47d9-bd14-a1536d5d18ed",
   "metadata": {},
   "outputs": [
    {
     "name": "stdout",
     "output_type": "stream",
     "text": [
      "iteration0:x=2000000\n",
      "iteration1:x=2000000\n",
      "iteration2:x=2000000\n",
      "iteration3:x=2000000\n",
      "iteration4:x=2000000\n",
      "iteration5:x=2000000\n",
      "iteration6:x=2000000\n",
      "iteration7:x=2000000\n",
      "iteration8:x=2000000\n",
      "iteration9:x=2000000\n"
     ]
    }
   ],
   "source": [
    "import threading\n",
    "x=0\n",
    "def increment():\n",
    "    global x\n",
    "    x+=1\n",
    "def thread_task():\n",
    "    for r in range(1000000):\n",
    "        increment()\n",
    "def main_task():\n",
    "    global x\n",
    "    x=0\n",
    "    t1=threading.Thread(target=thread_task)\n",
    "    t2=threading.Thread(target=thread_task)\n",
    "    t1.start()\n",
    "    t2.start()\n",
    "    t1.join()\n",
    "    t2.join()\n",
    "if __name__==\"__main__\":\n",
    "    for i in range(10):\n",
    "        main_task()\n",
    "        print(\"iteration{0}:x={1}\".format(i,x))"
   ]
  },
  {
   "cell_type": "code",
   "execution_count": 46,
   "id": "73cae9c5-3c7e-42e9-b753-386894af193c",
   "metadata": {},
   "outputs": [
    {
     "name": "stdout",
     "output_type": "stream",
     "text": [
      "iteration 0:x=2000000\n",
      "iteration 1:x=2000000\n",
      "iteration 2:x=2000000\n",
      "iteration 3:x=2000000\n",
      "iteration 4:x=2000000\n",
      "iteration 5:x=2000000\n",
      "iteration 6:x=2000000\n",
      "iteration 7:x=2000000\n",
      "iteration 8:x=2000000\n",
      "iteration 9:x=2000000\n"
     ]
    }
   ],
   "source": [
    "import threading\n",
    "x=0\n",
    "def increament():\n",
    "    global x\n",
    "    x+=1\n",
    "def thread_task(lock):\n",
    "    for _ in range(1000000):\n",
    "        lock.acquire()\n",
    "        increment()\n",
    "        lock.release()\n",
    "def main_task():\n",
    "    global x\n",
    "    x=0\n",
    "    lock=threading.Lock()\n",
    "    t1=threading.Thread(target=thread_task,args=(lock,))\n",
    "    t2=threading.Thread(target=thread_task,args=(lock,))\n",
    "    t1.start()\n",
    "    t2.start()\n",
    "    t1.join()\n",
    "    t2.join()\n",
    "if __name__==\"__main__\":\n",
    "    for i in range(10):\n",
    "        main_task()\n",
    "        print(\"iteration {0}:x={1}\".format(i,x))"
   ]
  },
  {
   "cell_type": "code",
   "execution_count": 44,
   "id": "4b5fe6a9-8bed-4980-be91-24865dd2c23a",
   "metadata": {},
   "outputs": [
    {
     "name": "stdout",
     "output_type": "stream",
     "text": [
      "Fun1: 0\n",
      "Fun1: 1\n",
      "Fun1: 2\n",
      "Fun1: 3\n",
      "Fun1: 4\n",
      "Fun1: 5\n",
      "Fun1: 6\n",
      "Fun1: 7\n",
      "Fun1: 8\n",
      "Fun1: 9\n",
      "Fun1: 10\n",
      "Fun2: 0\n",
      "Fun2: 1\n",
      "Fun2: 2\n",
      "Fun2: 3\n",
      "Fun2: 4\n",
      "Fun2: 5\n",
      "Fun2: 6\n",
      "Fun2: 7\n",
      "Fun2: 8\n",
      "Fun2: 9\n",
      "Fun2: 10\n"
     ]
    }
   ],
   "source": [
    "def myfunc_one(n):\n",
    "    for i in range(n+1):\n",
    "        print(\"Fun1:\",i)\n",
    "def myfunc_two(n):\n",
    "    for i in range(n+1):\n",
    "        print(\"Fun2:\",i)\n",
    "import threading\n",
    "if __name__ == \"__main__\":\n",
    "    t1 = threading.Thread(target=myfunc_one,args=(10,))\n",
    "    t2 = threading.Thread(target=myfunc_two,args=(10,))\n",
    "    t1.start(),t2.start()\n",
    "    t1.join,t2.join"
   ]
  },
  {
   "cell_type": "code",
   "execution_count": 34,
   "id": "586a9996-3177-43f5-b925-bfa23bbe0aa6",
   "metadata": {},
   "outputs": [
    {
     "name": "stdout",
     "output_type": "stream",
     "text": [
      "me too\n",
      "python\n"
     ]
    }
   ],
   "source": [
    "def myfun():\n",
    "    s=\"me too\"\n",
    "    print(s)\n",
    "s=\"python\"\n",
    "myfun()\n",
    "print(s)"
   ]
  },
  {
   "cell_type": "code",
   "execution_count": 14,
   "id": "2ace9829-7093-4e48-933d-5d7aac1c7178",
   "metadata": {},
   "outputs": [
    {
     "name": "stdout",
     "output_type": "stream",
     "text": [
      "fun1:0,is even\n",
      "fun1:1,is odd\n",
      "fun1:2,is even\n",
      "fun1:3,is odd\n",
      "fun1:4,is even\n",
      "fun1:5,is odd\n",
      "fun2: 0 is even\n",
      "fun2: 1 is odd\n",
      "fun2: 2 is even\n",
      "fun2: 3 is odd\n",
      "fun2: 4 is even\n",
      "fun2: 5 is odd\n"
     ]
    }
   ],
   "source": [
    "import threading\n",
    "x=0\n",
    "def fun_1(n):\n",
    "    for i in range(n+1):\n",
    "        if i % 2 == 0:\n",
    "            print(f\"fun1:{i},is even\")\n",
    "        else:\n",
    "            print(f\"fun1:{i},is odd\")\n",
    "def fun_2(n):\n",
    "    for i in range(n+1):\n",
    "        if i % 2 == 0:  \n",
    "            print(f\"fun2: {i} is even\")\n",
    "        else:\n",
    "            print(f\"fun2: {i} is odd\")\n",
    "if __name__==\"__main__\":\n",
    "    t1 = threading.Thread(target=fun_1,args=(5,))\n",
    "    t2 = threading.Thread(target=fun_2,args=(5,))\n",
    "    t1.start(),t2.start()\n",
    "    t1.join(),t2.join()"
   ]
  },
  {
   "cell_type": "code",
   "execution_count": 1,
   "id": "b5086382-1f95-4d85-ab0e-faea956c04ac",
   "metadata": {},
   "outputs": [
    {
     "name": "stdout",
     "output_type": "stream",
     "text": [
      "you are eligiable to shophing\n"
     ]
    }
   ],
   "source": [
    "amount=1000\n",
    "if amount>500:\n",
    "    print(\"you are eligiable to shophing\")"
   ]
  },
  {
   "cell_type": "code",
   "execution_count": 2,
   "id": "014b3e38-8401-4fc2-906b-93d7f7c8eff1",
   "metadata": {},
   "outputs": [
    {
     "ename": "ZeroDivisionError",
     "evalue": "division by zero",
     "output_type": "error",
     "traceback": [
      "\u001b[1;31m---------------------------------------------------------------------------\u001b[0m",
      "\u001b[1;31mZeroDivisionError\u001b[0m                         Traceback (most recent call last)",
      "Cell \u001b[1;32mIn[2], line 2\u001b[0m\n\u001b[0;32m      1\u001b[0m mark\u001b[38;5;241m=\u001b[39m\u001b[38;5;241m100\u001b[39m\n\u001b[1;32m----> 2\u001b[0m a\u001b[38;5;241m=\u001b[39m\u001b[43mmark\u001b[49m\u001b[38;5;241;43m/\u001b[39;49m\u001b[38;5;241;43m0\u001b[39;49m\n\u001b[0;32m      3\u001b[0m \u001b[38;5;28mprint\u001b[39m(a)\n",
      "\u001b[1;31mZeroDivisionError\u001b[0m: division by zero"
     ]
    }
   ],
   "source": [
    "mark=100\n",
    "a=mark/0\n",
    "print(a)"
   ]
  },
  {
   "cell_type": "code",
   "execution_count": 5,
   "id": "92200df1-0f0a-4766-97c5-7da481b54420",
   "metadata": {},
   "outputs": [
    {
     "name": "stdout",
     "output_type": "stream",
     "text": [
      "2 nd element=2\n",
      "an error occured\n"
     ]
    }
   ],
   "source": [
    "a=[1,2,3]\n",
    "try:\n",
    "    print(\"2 nd element=%d\"%(a[1]))\n",
    "    print(\"4 th element=%d\"%(a[3]))\n",
    "except:\n",
    "    print(\"an error occured\")"
   ]
  },
  {
   "cell_type": "code",
   "execution_count": 6,
   "id": "54a6b763-5667-4b0e-8616-748b79b688f9",
   "metadata": {},
   "outputs": [
    {
     "name": "stdout",
     "output_type": "stream",
     "text": [
      "value of b= -2.0\n"
     ]
    }
   ],
   "source": [
    "def fun(a):\n",
    "    if a<4:\n",
    "        b=a/a-3\n",
    "        print(\"value of b=\",b)\n",
    "try:\n",
    "    fun(3)\n",
    "    fun(5)\n",
    "except ZeroDivisionError:\n",
    "    print(\"zeroDivisionError occured and handled\")\n",
    "except NameError:\n",
    "    print(\"NameError occurred and handled\")"
   ]
  },
  {
   "cell_type": "code",
   "execution_count": 7,
   "id": "4f51f01f-651a-4897-b239-1186405886a1",
   "metadata": {},
   "outputs": [
    {
     "name": "stdout",
     "output_type": "stream",
     "text": [
      "-5.0\n",
      "a/b result in o\n"
     ]
    }
   ],
   "source": [
    "def fy(a,b):\n",
    "    try:\n",
    "        c=((a+b)/(a-b))\n",
    "    except ZeroDivisionError:\n",
    "        print(\"a/b result in o\")\n",
    "    else:\n",
    "        print(c)\n",
    "fy(2,3)\n",
    "fy(3,3)"
   ]
  },
  {
   "cell_type": "code",
   "execution_count": 20,
   "id": "7bc932e3-2f1d-4226-ad04-95145763f1b5",
   "metadata": {},
   "outputs": [
    {
     "name": "stdout",
     "output_type": "stream",
     "text": [
      "can't divide by zero\n",
      "this is always executed\n"
     ]
    }
   ],
   "source": [
    "try:\n",
    "    k=5//0\n",
    "    print(k)\n",
    "except ZeroDivisionError:\n",
    "    print(\"can't divide by zero\")\n",
    "finally:\n",
    "    print(\"this is always executed\")"
   ]
  },
  {
   "cell_type": "code",
   "execution_count": 19,
   "id": "4736ff6d-6e91-4c80-b532-e4d6e3fa4888",
   "metadata": {},
   "outputs": [
    {
     "name": "stdout",
     "output_type": "stream",
     "text": [
      "an axception\n"
     ]
    }
   ],
   "source": [
    "try:\n",
    "    raise NameError(\"hi there\")\n",
    "except NameError:\n",
    "    print(\"an axception\")"
   ]
  },
  {
   "cell_type": "code",
   "execution_count": 16,
   "id": "97d66762-d0ab-4226-a150-d46ce6ddc273",
   "metadata": {},
   "outputs": [
    {
     "name": "stdout",
     "output_type": "stream",
     "text": [
      "a new exception occured: 6\n"
     ]
    }
   ],
   "source": [
    "class myerror(Exception):\n",
    "    def __init__(self,value):\n",
    "        self.value=value\n",
    "    def __str__(self):\n",
    "        return(repr(self.value))\n",
    "try:\n",
    "    raise(myerror(3*2))\n",
    "except myerror as error:\n",
    "    print(\"a new exception occured:\",error.value)"
   ]
  }
 ],
 "metadata": {
  "kernelspec": {
   "display_name": "Python 3 (ipykernel)",
   "language": "python",
   "name": "python3"
  },
  "language_info": {
   "codemirror_mode": {
    "name": "ipython",
    "version": 3
   },
   "file_extension": ".py",
   "mimetype": "text/x-python",
   "name": "python",
   "nbconvert_exporter": "python",
   "pygments_lexer": "ipython3",
   "version": "3.13.1"
  }
 },
 "nbformat": 4,
 "nbformat_minor": 5
}
