{
 "cells": [
  {
   "cell_type": "code",
   "execution_count": 1,
   "id": "1e294385-cb54-4e18-83af-d00d73c3fc90",
   "metadata": {},
   "outputs": [
    {
     "name": "stdout",
     "output_type": "stream",
     "text": [
      "4\n",
      "3\n",
      "2\n",
      "1\n"
     ]
    }
   ],
   "source": [
    "a=[1,2,3,4]\n",
    "while a:\n",
    "    print(a.pop())"
   ]
  },
  {
   "cell_type": "code",
   "execution_count": 2,
   "id": "a7070955-0048-4def-ba32-51a8b8781060",
   "metadata": {},
   "outputs": [
    {
     "name": "stdout",
     "output_type": "stream",
     "text": [
      "1\n",
      "2\n",
      "3\n",
      "4\n"
     ]
    }
   ],
   "source": [
    "m= 0\n",
    "while m < 4:\n",
    "    m += 1\n",
    "    print(m)\n",
    "    continue"
   ]
  },
  {
   "cell_type": "code",
   "execution_count": 3,
   "id": "c0b1ac8d-7ed3-4879-a101-ad5e53717d46",
   "metadata": {},
   "outputs": [
    {
     "name": "stdout",
     "output_type": "stream",
     "text": [
      "1\n"
     ]
    }
   ],
   "source": [
    "a=0\n",
    "while a<4:\n",
    "    a+=1\n",
    "    print(a)\n",
    "    break"
   ]
  },
  {
   "cell_type": "code",
   "execution_count": 4,
   "id": "71f55ebe-1824-469a-bfc0-f938da7b899f",
   "metadata": {},
   "outputs": [
    {
     "name": "stdout",
     "output_type": "stream",
     "text": [
      "value of i: 1\n",
      "value of i: 2\n",
      "value of i: 3\n",
      "value of i: 4\n",
      "value of i: 5\n",
      "value of i: 6\n",
      "value of i: 7\n",
      "value of i: 8\n",
      "value of i: 9\n",
      "value of i: 10\n",
      "value of i: 11\n",
      "value of i: 12\n",
      "value of i: 13\n",
      "value of i: 14\n"
     ]
    }
   ],
   "source": [
    "a='loop in python'\n",
    "i=0\n",
    "while i<len(a):\n",
    "    i+=1\n",
    "    pass\n",
    "    print('value of i:', i)"
   ]
  },
  {
   "cell_type": "code",
   "execution_count": 8,
   "id": "4e5a39db-b4e0-46ab-8b20-597c132c0da5",
   "metadata": {},
   "outputs": [
    {
     "name": "stdout",
     "output_type": "stream",
     "text": [
      "current letter: l\n",
      "current letter: o\n",
      "current letter: o\n",
      "current letter: p\n",
      "current letter: i\n",
      "current letter: n\n",
      "current letter: p\n",
      "current letter: y\n",
      "current letter: t\n",
      "current letter: h\n",
      "current letter: o\n",
      "current letter: n\n"
     ]
    }
   ],
   "source": [
    "i=0\n",
    "a='loopsinpython'\n",
    "while i<len(a):\n",
    "    if a[i]=='e' or a[i]=='s':\n",
    "        i+=1\n",
    "        continue\n",
    "    print('current letter:',a[i])\n",
    "    i+=1"
   ]
  },
  {
   "cell_type": "code",
   "execution_count": 15,
   "id": "6eee1b33-261c-49ba-9081-0bff666bf8d5",
   "metadata": {},
   "outputs": [
    {
     "name": "stdout",
     "output_type": "stream",
     "text": [
      "current letter: l\n",
      "current letter: o\n",
      "current letter: o\n"
     ]
    }
   ],
   "source": [
    "i=0\n",
    "a='loop in python'\n",
    "while i<len(a):\n",
    "    if a[i]=='p' or a[i]=='h':\n",
    "        i+=1\n",
    "        break\n",
    "    print('current letter:',a[i])\n",
    "    i+=1"
   ]
  },
  {
   "cell_type": "code",
   "execution_count": 28,
   "id": "41c8eb6a-402b-45e1-8808-6d53a21d62c8",
   "metadata": {},
   "outputs": [
    {
     "name": "stdout",
     "output_type": "stream",
     "text": [
      "7\n",
      "8\n",
      "9\n",
      "10\n"
     ]
    }
   ],
   "source": [
    "i=6\n",
    "while i<10:\n",
    "    i+=1\n",
    "    print(i)\n",
    "    continue"
   ]
  },
  {
   "cell_type": "code",
   "execution_count": 36,
   "id": "79ef2e99-9aab-4ceb-ba5d-30f2ec746d18",
   "metadata": {},
   "outputs": [
    {
     "name": "stdout",
     "output_type": "stream",
     "text": [
      "value of: 5\n",
      "value of: 6\n",
      "value of: 7\n",
      "value of: 8\n",
      "value of: 9\n",
      "value of: 10\n",
      "value of: 11\n",
      "value of: 12\n",
      "value of: 13\n",
      "value of: 14\n"
     ]
    }
   ],
   "source": [
    "a='loop in python'\n",
    "m=4\n",
    "while m<len(a):\n",
    "    m+=1\n",
    "    pass\n",
    "    print('value of:',m)\n"
   ]
  },
  {
   "cell_type": "code",
   "execution_count": 51,
   "id": "9ef534d0-816b-499d-8a88-bbd56e065b4c",
   "metadata": {},
   "outputs": [
    {
     "name": "stdout",
     "output_type": "stream",
     "text": [
      "number: p\n",
      "number: y\n",
      "number: t\n",
      "number: h\n",
      "number: o\n",
      "number: n\n"
     ]
    }
   ],
   "source": [
    "i=0\n",
    "a='python'\n",
    "while i<len(a):\n",
    "    if a[i]==' ':\n",
    "        i+=1\n",
    "        break\n",
    "    print('number:',a[i])\n",
    "    i+=1"
   ]
  },
  {
   "cell_type": "code",
   "execution_count": 54,
   "id": "86e01812-ed9a-46b0-96f8-76458bf75ea4",
   "metadata": {},
   "outputs": [
    {
     "name": "stdout",
     "output_type": "stream",
     "text": [
      "Current letter: l\n",
      "Current letter: o\n",
      "Current letter: o\n",
      "Current letter: p\n",
      "Current letter:  \n",
      "Current letter:  \n",
      "Current letter: p\n",
      "Current letter: y\n",
      "Current letter: t\n",
      "Current letter: h\n",
      "Current letter: o\n"
     ]
    }
   ],
   "source": [
    "p = 'loop  python'\n",
    "m = 0\n",
    "while m < len(p):  \n",
    "    if p[m] == 'n': \n",
    "        m+=1\n",
    "        break  \n",
    "    print('Current letter:', p[m]) \n",
    "    m += 1  "
   ]
  },
  {
   "cell_type": "code",
   "execution_count": 57,
   "id": "69799741-0b57-4337-9b75-1c2e208288e6",
   "metadata": {},
   "outputs": [
    {
     "name": "stdout",
     "output_type": "stream",
     "text": [
      "current letter: l\n",
      "current letter: p\n",
      "current letter: i\n",
      "current letter: n\n",
      "current letter: p\n",
      "current letter: y\n",
      "current letter: t\n",
      "current letter: h\n",
      "current letter: n\n"
     ]
    }
   ],
   "source": [
    "i=0\n",
    "a='loopinpython'\n",
    "while i<len(a):\n",
    "    if a[i]=='o':\n",
    "        i+=1\n",
    "        continue\n",
    "    print('current letter:',a[i])\n",
    "    i+=1"
   ]
  },
  {
   "cell_type": "code",
   "execution_count": 69,
   "id": "0bfb5f20-a37e-4525-995c-2613bd972977",
   "metadata": {},
   "outputs": [
    {
     "name": "stdout",
     "output_type": "stream",
     "text": [
      "[5, 4, 6, 4, 7, 8, 4, 6, 4, 8, 9, 4]\n",
      "[5, 6, 4, 7, 8, 4, 6, 4, 8, 9, 4]\n",
      "[5, 6, 7, 8, 4, 6, 4, 8, 9, 4]\n",
      "[5, 6, 7, 8, 6, 4, 8, 9, 4]\n",
      "[5, 6, 7, 8, 6, 8, 9, 4]\n",
      "[5, 6, 7, 8, 6, 8, 9]\n"
     ]
    }
   ],
   "source": [
    "a = [4, 5, 4, 6, 4,7,8,4,6,4,8,9,4]\n",
    "\n",
    "while 4 in a:\n",
    "    a.remove(4)\n",
    "    print(a) "
   ]
  },
  {
   "cell_type": "code",
   "execution_count": 73,
   "id": "a6bf0fa3-d9fc-46d6-b417-a59a7588fbc5",
   "metadata": {},
   "outputs": [
    {
     "name": "stdout",
     "output_type": "stream",
     "text": [
      "current letter: l\n",
      "current letter: o\n",
      "current letter: o\n",
      "current letter: p\n",
      "current letter: i\n",
      "current letter: n\n",
      "current letter: p\n",
      "current letter: y\n",
      "current letter: t\n",
      "current letter: h\n",
      "current letter: o\n",
      "current letter: n\n"
     ]
    }
   ],
   "source": [
    "i=0\n",
    "a='loopinpython'\n",
    "while i<len(a):\n",
    "    if a[i]=='a'or a[i]=='g':\n",
    "        i+=1\n",
    "        continue\n",
    "    print('current letter:',a[i])\n",
    "    i+=1"
   ]
  },
  {
   "cell_type": "code",
   "execution_count": 79,
   "id": "dfbf4a8b-2018-4df2-ac5e-72f6446f396b",
   "metadata": {},
   "outputs": [
    {
     "name": "stdout",
     "output_type": "stream",
     "text": [
      "1\n",
      "2\n",
      "3\n",
      "4\n",
      "NO BREAK\n"
     ]
    }
   ],
   "source": [
    "i=0\n",
    "while i<4:\n",
    "    i+=1\n",
    "    print(i)\n",
    "else:\n",
    "    print(\"NO BREAK\")"
   ]
  },
  {
   "cell_type": "code",
   "execution_count": 76,
   "id": "a5d86daa-d6ba-4b3d-b03a-1da3d4355c4a",
   "metadata": {},
   "outputs": [
    {
     "name": "stdout",
     "output_type": "stream",
     "text": [
      "1\n"
     ]
    }
   ],
   "source": [
    "i=0\n",
    "while i<4:\n",
    "    i+=1\n",
    "    print(i)\n",
    "    break\n",
    "else:\n",
    "    print(\"no break\")"
   ]
  },
  {
   "cell_type": "code",
   "execution_count": 85,
   "id": "82c815c9-05b6-4d1e-b15b-3577cf439b8d",
   "metadata": {},
   "outputs": [
    {
     "name": "stdout",
     "output_type": "stream",
     "text": [
      "List iteration\n",
      "hello\n",
      "for\n",
      "python\n"
     ]
    }
   ],
   "source": [
    "print(\"List iteration\")\n",
    "y=[\"hello\",\"for\",\"python\"]\n",
    "for i in y :\n",
    "    print(i)"
   ]
  },
  {
   "cell_type": "code",
   "execution_count": 86,
   "id": "e99e75b3-14ce-4656-bc6f-78941a053116",
   "metadata": {},
   "outputs": [
    {
     "name": "stdout",
     "output_type": "stream",
     "text": [
      "tuple iteration\n",
      "hello\n",
      "for\n",
      "python\n"
     ]
    }
   ],
   "source": [
    "print(\"tuple iteration\")\n",
    "t=(\"hello\",\"for\",\"python\")\n",
    "for l in t:\n",
    "    print(l)"
   ]
  },
  {
   "cell_type": "code",
   "execution_count": 93,
   "id": "ef87a8c0-9eb0-447b-b72e-d9d5b9273e54",
   "metadata": {},
   "outputs": [
    {
     "name": "stdout",
     "output_type": "stream",
     "text": [
      "dictonary iteration\n",
      "x y z 123\n",
      "a b c 345\n"
     ]
    }
   ],
   "source": [
    "print(\"dictonary iteration\")\n",
    "d=dict()\n",
    "d['x y z']=  123\n",
    "d['a b c']=  345\n",
    "for i in  d:\n",
    "    print(\"%s %d\" %(i,d[i]))"
   ]
  },
  {
   "cell_type": "code",
   "execution_count": 94,
   "id": "e5e8f9d0-13a3-43ff-bd83-954dee298b8a",
   "metadata": {},
   "outputs": [
    {
     "name": "stdout",
     "output_type": "stream",
     "text": [
      "current letter: p\n",
      "current letter: y\n",
      "current letter: t\n",
      "current letter: h\n",
      "current letter: n\n",
      "current letter:  \n",
      "current letter: d\n",
      "current letter: v\n",
      "current letter: l\n",
      "current letter: p\n",
      "current letter: r\n"
     ]
    }
   ],
   "source": [
    "for x in 'python developer':\n",
    "    if x=='e' or x=='o':\n",
    "        continue\n",
    "    print('current letter:',x)"
   ]
  },
  {
   "cell_type": "code",
   "execution_count": 97,
   "id": "08d54819-6d48-47bf-b6da-03aa2f472759",
   "metadata": {},
   "outputs": [
    {
     "name": "stdout",
     "output_type": "stream",
     "text": [
      "current letter: o\n"
     ]
    }
   ],
   "source": [
    "for x in 'python developer':\n",
    "    if x=='o' or x=='e':\n",
    "        break\n",
    "print('current letter:',x)\n"
   ]
  },
  {
   "cell_type": "code",
   "execution_count": 103,
   "id": "e519a106-331f-4ae8-a11d-a0a8c734d964",
   "metadata": {},
   "outputs": [
    {
     "name": "stdout",
     "output_type": "stream",
     "text": [
      "last letter: p\n",
      "last letter: y\n",
      "last letter: t\n",
      "last letter: h\n",
      "last letter: o\n",
      "last letter: n\n"
     ]
    }
   ],
   "source": [
    "for x in 'python':\n",
    "    pass\n",
    "    print(\"last letter:\",x)"
   ]
  },
  {
   "cell_type": "code",
   "execution_count": null,
   "id": "8e118f34-54fa-4e97-ad3f-93b66359485c",
   "metadata": {},
   "outputs": [],
   "source": []
  }
 ],
 "metadata": {
  "kernelspec": {
   "display_name": "Python 3 (ipykernel)",
   "language": "python",
   "name": "python3"
  },
  "language_info": {
   "codemirror_mode": {
    "name": "ipython",
    "version": 3
   },
   "file_extension": ".py",
   "mimetype": "text/x-python",
   "name": "python",
   "nbconvert_exporter": "python",
   "pygments_lexer": "ipython3",
   "version": "3.12.8"
  }
 },
 "nbformat": 4,
 "nbformat_minor": 5
}
