{
 "cells": [
  {
   "cell_type": "code",
   "execution_count": 17,
   "id": "9d8b8afc-07ce-4476-bb0a-c0c540b70bc3",
   "metadata": {},
   "outputs": [
    {
     "name": "stdout",
     "output_type": "stream",
     "text": [
      "Filet Mignon\n",
      "Brisket\n",
      "Cheeseburger\n"
     ]
    }
   ],
   "source": [
    "string1 = \"       Filet Mignon\" \n",
    "string2 = \"Brisket         \" \n",
    "string3 = \"     Cheeseburger      \"\n",
    "x=string1.lstrip()\n",
    "y=string2.rstrip()\n",
    "z=string3.strip()\n",
    "print(x)\n",
    "print(y)\n",
    "print(z)"
   ]
  },
  {
   "cell_type": "code",
   "execution_count": 1,
   "id": "4464fe07-342c-4531-9e3c-3a63dda50f96",
   "metadata": {},
   "outputs": [
    {
     "name": "stdout",
     "output_type": "stream",
     "text": [
      "HELLO PYTHON\n"
     ]
    }
   ],
   "source": [
    "word=\"hello python\"\n",
    "print(word.upper())"
   ]
  },
  {
   "cell_type": "code",
   "execution_count": 6,
   "id": "19798a94-7173-44fa-a5d8-e9b54222b9e8",
   "metadata": {},
   "outputs": [
    {
     "name": "stdout",
     "output_type": "stream",
     "text": [
      "16\n"
     ]
    }
   ],
   "source": [
    "a=\"hello programmer\"\n",
    "print(len(a))\n"
   ]
  },
  {
   "cell_type": "code",
   "execution_count": 8,
   "id": "7a9d7a09-e8a6-4b79-b94d-1015d3f18554",
   "metadata": {},
   "outputs": [
    {
     "name": "stdout",
     "output_type": "stream",
     "text": [
      "0.2kg is the weight of the newt\n"
     ]
    }
   ],
   "source": [
    "weight=0.2\n",
    "animal=\"newt\"\n",
    "print(str(weight)+'kg is the weight of the',animal)"
   ]
  },
  {
   "cell_type": "code",
   "execution_count": 10,
   "id": "33f3d094-5a30-4b12-8bb9-9a01aaf0ade7",
   "metadata": {},
   "outputs": [
    {
     "name": "stdout",
     "output_type": "stream",
     "text": [
      "0.2 kg is the weight of the newt\n"
     ]
    }
   ],
   "source": [
    "print(\"{} kg is the weight of the {}\".format(weight,animal))"
   ]
  },
  {
   "cell_type": "code",
   "execution_count": 12,
   "id": "5f2a2d0b-85b9-47b5-a9b7-b74e06a92f24",
   "metadata": {},
   "outputs": [
    {
     "name": "stdout",
     "output_type": "stream",
     "text": [
      "0.2 kg is the weight of the newt\n"
     ]
    }
   ],
   "source": [
    "print(f\"{weight} kg is the weight of the {animal}\")"
   ]
  },
  {
   "cell_type": "code",
   "execution_count": 14,
   "id": "b5f5e163-5826-47a1-bde4-d809373d6cf0",
   "metadata": {},
   "outputs": [
    {
     "name": "stdout",
     "output_type": "stream",
     "text": [
      "6\n"
     ]
    }
   ],
   "source": [
    "import operator\n",
    "print(operator.add(2,4))"
   ]
  },
  {
   "cell_type": "code",
   "execution_count": 19,
   "id": "10fe0810-b3ff-440f-80aa-b7ddd5b785f9",
   "metadata": {},
   "outputs": [
    {
     "data": {
      "text/plain": [
       "'defghij'"
      ]
     },
     "execution_count": 19,
     "metadata": {},
     "output_type": "execute_result"
    }
   ],
   "source": [
    "Word=\"abcdefghij\"\n",
    "Word[3:]"
   ]
  },
  {
   "cell_type": "code",
   "execution_count": 20,
   "id": "9830a8db-f5a4-4a90-bc34-2037f795c28e",
   "metadata": {},
   "outputs": [
    {
     "name": "stdout",
     "output_type": "stream",
     "text": [
      "{1, 2, 3, 4}\n"
     ]
    }
   ],
   "source": [
    "l=[1,2,1,3,4,2]\n",
    "c=set(l)\n",
    "print(c)"
   ]
  },
  {
   "cell_type": "code",
   "execution_count": 22,
   "id": "f704af7b-c38f-4628-9252-0ab1316f42b4",
   "metadata": {},
   "outputs": [
    {
     "name": "stdout",
     "output_type": "stream",
     "text": [
      "{1, 2, 3, 4, 5, 6, 7, 8}\n"
     ]
    }
   ],
   "source": [
    "a={1,2,3,4}\n",
    "b={5,6,7,8}\n",
    "a.update(b)\n",
    "print(a)"
   ]
  },
  {
   "cell_type": "code",
   "execution_count": 23,
   "id": "94d93376-7623-4abb-b7da-60f9c78a8fd5",
   "metadata": {},
   "outputs": [
    {
     "name": "stdout",
     "output_type": "stream",
     "text": [
      "{2, 4, 5, 8}\n"
     ]
    }
   ],
   "source": [
    "a={2,5,6,8,4}\n",
    "a.remove(6)\n",
    "print(a)"
   ]
  },
  {
   "cell_type": "code",
   "execution_count": 24,
   "id": "d5404f53-c373-46a0-95f7-bcca0adbb81f",
   "metadata": {},
   "outputs": [
    {
     "data": {
      "text/plain": [
       "{'blue'}"
      ]
     },
     "execution_count": 24,
     "metadata": {},
     "output_type": "execute_result"
    }
   ],
   "source": [
    "setx = set([\"green\", \"blue\"])\n",
    "sety = set([\"blue\", \"yellow\"])\n",
    "setx.intersection(sety)"
   ]
  },
  {
   "cell_type": "code",
   "execution_count": 27,
   "id": "5f3dca66-099e-47f2-a818-7012e90f93c6",
   "metadata": {},
   "outputs": [
    {
     "name": "stdout",
     "output_type": "stream",
     "text": [
      "{'a'}\n"
     ]
    }
   ],
   "source": [
    "x={\"a\",\"b\",\"c\"}\n",
    "y={\"g\",\"m\",\"a\"}\n",
    "z=x.intersection(y)\n",
    "print(z)"
   ]
  },
  {
   "cell_type": "code",
   "execution_count": 34,
   "id": "64b15da6-2a8a-4884-937c-ef30221be459",
   "metadata": {},
   "outputs": [
    {
     "name": "stdout",
     "output_type": "stream",
     "text": [
      "set()\n"
     ]
    }
   ],
   "source": [
    "z={2,3,4,5,6}\n",
    "for i in set(z):\n",
    "    z.remove(i)\n",
    "print(z)"
   ]
  },
  {
   "cell_type": "code",
   "execution_count": 21,
   "id": "16ca646a-420f-48fe-a15d-921830522cf0",
   "metadata": {},
   "outputs": [
    {
     "name": "stdout",
     "output_type": "stream",
     "text": [
      "{0: 10, 1: 20, 2: 30}\n"
     ]
    }
   ],
   "source": [
    "sample= {0: 10, 1: 20}\n",
    "sample[2] = 30\n",
    "print(sample)"
   ]
  },
  {
   "cell_type": "code",
   "execution_count": 20,
   "id": "70949228-270c-4b27-905c-97e89f045d47",
   "metadata": {},
   "outputs": [
    {
     "name": "stdout",
     "output_type": "stream",
     "text": [
      "{1: 10, 2: 20, 3: 30, 4: 40, 5: 50, 6: 60}\n"
     ]
    }
   ],
   "source": [
    "dic1={1:10, 2:20}\n",
    "dic2={3:30, 4:40}\n",
    "dic3={5:50,6:60}\n",
    "merged_dict = {}\n",
    "merged_dict.update(dic1)\n",
    "merged_dict.update(dic2)\n",
    "merged_dict.update(dic3)\n",
    "print(merged_dict)"
   ]
  },
  {
   "cell_type": "code",
   "execution_count": 39,
   "id": "2a36254b-993b-4a85-882a-9fe6b8386c14",
   "metadata": {},
   "outputs": [
    {
     "name": "stdout",
     "output_type": "stream",
     "text": [
      "key2 exist in the dictionary\n",
      "key30 dosn't exist in the dictionary\n"
     ]
    }
   ],
   "source": [
    "sample_dic={1:10,2:20,3:30}\n",
    "def check_key_exist(dictionary,key):\n",
    "    if key in dictionary:\n",
    "        print(f\"key{key} exist in the dictionary\")\n",
    "    else:\n",
    "        print(f\"key{key} dosn't exist in the dictionary\")\n",
    "check_key_exist(sample_dict,2)\n",
    "check_key_exist(sample_dict,30)"
   ]
  },
  {
   "cell_type": "code",
   "execution_count": 47,
   "id": "7084f7cf-ba16-4aab-b88b-3362b5d1c18a",
   "metadata": {},
   "outputs": [
    {
     "name": "stdout",
     "output_type": "stream",
     "text": [
      "Value 2 does not exist in the dictionary.\n",
      "Value 50 does not exist in the dictionary.\n"
     ]
    }
   ],
   "source": [
    "sample_dict = {1: 10, 2: 20, 3: 30}\n",
    "def check_value_exists(dictionary, value):\n",
    "    if value in dictionary.values():\n",
    "        print(f\"Value {value} exists in the dictionary.\")\n",
    "    else:\n",
    "        print(f\"Value {value} does not exist in the dictionary.\")\n",
    "check_value_exists(sample_dict, 2)  \n",
    "check_value_exists(sample_dict, 50)"
   ]
  },
  {
   "cell_type": "code",
   "execution_count": 38,
   "id": "3840a101-8b2c-4671-b9ee-2a948c9d917e",
   "metadata": {},
   "outputs": [
    {
     "name": "stdout",
     "output_type": "stream",
     "text": [
      "Key 3 exists in the dictionary.\n",
      "key 5 does not exist in the dictionary.\n"
     ]
    }
   ],
   "source": [
    "sample_dict = {1: 10, 2: 20, 3: 30}\n",
    "def check_value_exists(dictionary, value):\n",
    "    if value in dictionary.keys():\n",
    "        print(f\"Key {value} exists in the dictionary.\")\n",
    "    else:\n",
    "        print(f\"key {value} does not exist in the dictionary.\")\n",
    "check_value_exists(sample_dict, 3)  \n",
    "check_value_exists(sample_dict, 5)"
   ]
  },
  {
   "cell_type": "code",
   "execution_count": 50,
   "id": "813e8964-eb0e-4de2-bb4e-b3627019a9f2",
   "metadata": {},
   "outputs": [
    {
     "name": "stdout",
     "output_type": "stream",
     "text": [
      "5\n",
      "10\n",
      "15\n"
     ]
    }
   ],
   "source": [
    "num=(5,10,15)\n",
    "(x,y,z)=num\n",
    "print(x)\n",
    "print(y)\n",
    "print(z)"
   ]
  },
  {
   "cell_type": "code",
   "execution_count": 51,
   "id": "f628d7a0-163c-4beb-9da3-ba7ed4b1220e",
   "metadata": {},
   "outputs": [
    {
     "name": "stdout",
     "output_type": "stream",
     "text": [
      "[100, 200, 300, 400, 500, 600]\n"
     ]
    }
   ],
   "source": [
    "d1 = {'a': 100, 'b': 200, 'c': 300}\n",
    "d2 = {'a': 600, 'b': 400, 'd': 500}\n",
    "x=list(set(d1.values())|set(d2.values()))\n",
    "x.sort()\n",
    "print(x)"
   ]
  },
  {
   "cell_type": "code",
   "execution_count": 60,
   "id": "5b74ddb3-9b39-49fd-a2b8-79b3e0262940",
   "metadata": {},
   "outputs": [
    {
     "name": "stdout",
     "output_type": "stream",
     "text": [
      "[100, 200, 300, 600, 400, 500]\n"
     ]
    }
   ],
   "source": [
    "d1 = {'a': 100, 'b': 200, 'c': 300}\n",
    "d2 = {'a': 600, 'b': 400, 'd': 500}\n",
    "x=list(d1.values())\n",
    "y=list(d2.values())\n",
    "print(x+y)"
   ]
  },
  {
   "cell_type": "code",
   "execution_count": 4,
   "id": "cdb0b755-ce30-474f-aa3a-a543fc68a764",
   "metadata": {},
   "outputs": [
    {
     "name": "stdout",
     "output_type": "stream",
     "text": [
      "9\n"
     ]
    }
   ],
   "source": [
    "my_dict={'a': 5, 'b': 14, 'c': 32, 'd': 35, 'e': 24, 'f': 100, 'g': 57, 'h': 8, 'i': 100}\n",
    "print(len(my_dict))"
   ]
  },
  {
   "cell_type": "code",
   "execution_count": 5,
   "id": "dbf55f29-42c4-4725-854b-47b95a564eae",
   "metadata": {},
   "outputs": [
    {
     "name": "stdout",
     "output_type": "stream",
     "text": [
      "python\n"
     ]
    }
   ],
   "source": [
    "tup = ('p', 'y', 't', 'h', 'o', 'n')\n",
    "result = \"\"\n",
    "for i in tup:\n",
    "    result += i\n",
    "print(result)\n"
   ]
  },
  {
   "cell_type": "code",
   "execution_count": 6,
   "id": "e5d1ebde-4d0d-4404-9b56-3ccaa2db2875",
   "metadata": {},
   "outputs": [
    {
     "name": "stdout",
     "output_type": "stream",
     "text": [
      "python\n"
     ]
    }
   ],
   "source": [
    "result=\"\".join(tup)\n",
    "print(result)"
   ]
  },
  {
   "cell_type": "code",
   "execution_count": 9,
   "id": "66301958-a308-4ecb-8573-4d9a79fb850b",
   "metadata": {},
   "outputs": [
    {
     "name": "stdout",
     "output_type": "stream",
     "text": [
      "The 4th element from last is: e\n"
     ]
    }
   ],
   "source": [
    "A = (1, \"a\", 2, \"b\", 3, \"c\", 4, \"d\", 5, \"e\", 6, \"f\", 7)\n",
    "fourth_from_last = A[-4]\n",
    "print(f\"The 4th element from last is: {fourth_from_last}\")\n"
   ]
  },
  {
   "cell_type": "code",
   "execution_count": 15,
   "id": "257ca905-6b98-4d6f-aad6-5a72cc5112ad",
   "metadata": {},
   "outputs": [
    {
     "name": "stdout",
     "output_type": "stream",
     "text": [
      "Updated tuple: ('p', 'y', 't', 'h', 'n')\n"
     ]
    }
   ],
   "source": [
    "tup = ('p', 'y', 't', 'h', 'o', 'n')\n",
    "tup_list = list(tup)\n",
    "tup_list.remove('o')\n",
    "new_tup = tuple(tup_list)\n",
    "print(f\"Updated tuple: {new_tup}\")"
   ]
  },
  {
   "cell_type": "code",
   "execution_count": 2,
   "id": "c4280d42-f048-4f80-968b-c8993c165ae4",
   "metadata": {},
   "outputs": [
    {
     "name": "stdout",
     "output_type": "stream",
     "text": [
      "{1, 2, 3, 4}\n"
     ]
    }
   ],
   "source": [
    "List=[1,2,1,3,4,2]\n",
    "x=set(List)\n",
    "print(x)"
   ]
  },
  {
   "cell_type": "code",
   "execution_count": 8,
   "id": "80e4adea-6a92-47f4-9c76-c15cbfc2e4bb",
   "metadata": {},
   "outputs": [
    {
     "name": "stdout",
     "output_type": "stream",
     "text": [
      "[1, 2, 3, 4, 5, 7, 8, 9, 10]\n"
     ]
    }
   ],
   "source": [
    "A=[1,2,3,4,5,6,7,8,9,10]\n",
    "A.pop(5)\n",
    "print(A)"
   ]
  },
  {
   "cell_type": "code",
   "execution_count": 24,
   "id": "d8cdf79e-b1db-4e7d-b808-c9d3a9ccf79d",
   "metadata": {},
   "outputs": [
    {
     "name": "stdout",
     "output_type": "stream",
     "text": [
      "[1, 2, 3, 4, 5]\n"
     ]
    }
   ],
   "source": [
    "A = [1, 2, 3, 4, 5, 6, 7, 8, 9, 10]\n",
    "for i in range(5):\n",
    "    A.pop()\n",
    "print(A)\n"
   ]
  },
  {
   "cell_type": "code",
   "execution_count": 28,
   "id": "9732809c-b7fe-4784-9880-90d002b59b5a",
   "metadata": {},
   "outputs": [
    {
     "name": "stdout",
     "output_type": "stream",
     "text": [
      "[1, 2, 3, 4, 5]\n"
     ]
    }
   ],
   "source": [
    "A = [1, 2, 3, 4, 5, 6, 7, 8, 9, 10]\n",
    "A=A[:-5]\n",
    "print(A)"
   ]
  },
  {
   "cell_type": "code",
   "execution_count": 37,
   "id": "5d3c97f0-cf9f-4cd9-9a7a-0c71c3cdcdf9",
   "metadata": {},
   "outputs": [
    {
     "name": "stdout",
     "output_type": "stream",
     "text": [
      "banana is present in the list\n"
     ]
    }
   ],
   "source": [
    "a = [\"apple\", \"banana\", \"cherry\"]\n",
    "if \"banana\" in a:\n",
    "    print(\"banana is present in the list\")"
   ]
  },
  {
   "cell_type": "code",
   "execution_count": 40,
   "id": "34180e0f-4fb2-4cc0-86c6-fa2baaeb678a",
   "metadata": {},
   "outputs": [
    {
     "name": "stdout",
     "output_type": "stream",
     "text": [
      "[1, 2, 10, 20]\n"
     ]
    }
   ],
   "source": [
    "A=[1,2,'p','y','k',10,20]\n",
    "del A[2:5]\n",
    "print(A)"
   ]
  },
  {
   "cell_type": "code",
   "execution_count": 41,
   "id": "a9038595-c4c6-420c-93d6-7cd0b46313c5",
   "metadata": {},
   "outputs": [
    {
     "name": "stdout",
     "output_type": "stream",
     "text": [
      "[1, 2, 10, 20]\n"
     ]
    }
   ],
   "source": [
    "A=[1,2,'p','y','k',10,20]\n",
    "del A[2:5]\n",
    "print(A)"
   ]
  },
  {
   "cell_type": "code",
   "execution_count": 47,
   "id": "08e6be3d-d4f2-4af3-b887-d2cf600f7d2c",
   "metadata": {},
   "outputs": [
    {
     "name": "stdout",
     "output_type": "stream",
     "text": [
      "4\n"
     ]
    }
   ],
   "source": [
    "A=[1,2,'p','y','k',10,20]\n",
    "z=A.index('k')\n",
    "print(z)"
   ]
  },
  {
   "cell_type": "code",
   "execution_count": 3,
   "id": "734bf3b3-c22e-4d56-a32f-36253d1476fa",
   "metadata": {},
   "outputs": [
    {
     "name": "stdout",
     "output_type": "stream",
     "text": [
      "10 is occurred 1 in a list A\n"
     ]
    }
   ],
   "source": [
    "A=[2,2,10,3,4,5,1]\n",
    "x=A.count(10)\n",
    "print(f\"10 is occurred {x} in a list A\")"
   ]
  },
  {
   "cell_type": "code",
   "execution_count": 8,
   "id": "5f7eb0db-ae3f-4f6e-bd3e-7e96b9545572",
   "metadata": {},
   "outputs": [
    {
     "name": "stdout",
     "output_type": "stream",
     "text": [
      "['apple', 'banana', 'cherry']\n"
     ]
    }
   ],
   "source": [
    "A=\"apple\"\n",
    "B=\"banana\"\n",
    "C=\"cherry\"\n",
    "x=[A,B,C]\n",
    "print(x)"
   ]
  },
  {
   "cell_type": "code",
   "execution_count": 13,
   "id": "96dcbad9-46cc-48b6-8386-8b4f65356a91",
   "metadata": {},
   "outputs": [
    {
     "name": "stdout",
     "output_type": "stream",
     "text": [
      "The reminder is 12.5 when a divided  by b\n"
     ]
    }
   ],
   "source": [
    "a=50\n",
    "b=4\n",
    "import operator\n",
    "n=operator.truediv(50,4)\n",
    "print(f\"The reminder is {n} when a divided  by b\")"
   ]
  },
  {
   "cell_type": "code",
   "execution_count": 25,
   "id": "b82b703e-092b-406d-a728-2e8c302cdc64",
   "metadata": {},
   "outputs": [
    {
     "name": "stdout",
     "output_type": "stream",
     "text": [
      "[1, 2, 3, 1, 2, 3]\n"
     ]
    }
   ],
   "source": [
    "z=[1,2,3] \n",
    "z.extend(z)\n",
    "print(z)\n"
   ]
  },
  {
   "cell_type": "code",
   "execution_count": 26,
   "id": "b32b331a-50d0-408d-8a82-d06b98dbb28a",
   "metadata": {},
   "outputs": [
    {
     "name": "stdout",
     "output_type": "stream",
     "text": [
      "[1, 2, 3, 1, 2, 3]\n"
     ]
    }
   ],
   "source": [
    "z = [1, 2, 3]\n",
    "z.extend(z[:])\n",
    "print(z)\n"
   ]
  },
  {
   "cell_type": "code",
   "execution_count": 47,
   "id": "6320cdeb-b21c-4d2a-8c45-70d164a60592",
   "metadata": {},
   "outputs": [
    {
     "name": "stdout",
     "output_type": "stream",
     "text": [
      "second largest number in the list 78\n"
     ]
    }
   ],
   "source": [
    "A=[100,50,2,5,7,25,78]\n",
    "A.sort()\n",
    "print(\"second largest number in the list\",A[-2])"
   ]
  },
  {
   "cell_type": "code",
   "execution_count": 52,
   "id": "41075696-f17a-4479-b21d-69c2fab4472c",
   "metadata": {},
   "outputs": [
    {
     "name": "stdout",
     "output_type": "stream",
     "text": [
      "[(1, 2), (2, 1), (2, 3), (3, 2), (4, 4), (5, 4)]\n"
     ]
    }
   ],
   "source": [
    "t=[(2,1),(1,2),(4,4),(3,2),(2,3),(5,4)] \n",
    "n=sorted(t)\n",
    "print(n)"
   ]
  },
  {
   "cell_type": "code",
   "execution_count": 64,
   "id": "f8374178-7eb7-4912-a26a-2d142449ee7e",
   "metadata": {},
   "outputs": [
    {
     "name": "stdout",
     "output_type": "stream",
     "text": [
      "(23, 25)\n"
     ]
    }
   ],
   "source": [
    "A=[20,\"kerala\",[100,200,300],\"A\",\"B\",\"C\",[15,23,25]]\n",
    "z=(A[6][1],A[6][2])\n",
    "print(z)"
   ]
  },
  {
   "cell_type": "code",
   "execution_count": 67,
   "id": "e0161fdf-c678-42d3-b905-a02568d24e8d",
   "metadata": {},
   "outputs": [
    {
     "name": "stdout",
     "output_type": "stream",
     "text": [
      "[100, 200, 300]\n"
     ]
    }
   ],
   "source": [
    "print(A[2])"
   ]
  },
  {
   "cell_type": "code",
   "execution_count": 68,
   "id": "f2ca324c-7d39-492c-9214-bea9e31c8c84",
   "metadata": {},
   "outputs": [
    {
     "name": "stdout",
     "output_type": "stream",
     "text": [
      "r\n"
     ]
    }
   ],
   "source": [
    "print(A[1][2])"
   ]
  },
  {
   "cell_type": "code",
   "execution_count": 69,
   "id": "7daf6a60-0e7b-4cfd-833d-8b207c19d12f",
   "metadata": {},
   "outputs": [
    {
     "name": "stdout",
     "output_type": "stream",
     "text": [
      "15\n"
     ]
    }
   ],
   "source": [
    "print(A[6][0])"
   ]
  },
  {
   "cell_type": "code",
   "execution_count": 76,
   "id": "8b0255ad-cb33-4185-8be3-4e55b09e09f5",
   "metadata": {},
   "outputs": [
    {
     "name": "stdout",
     "output_type": "stream",
     "text": [
      "A B C\n"
     ]
    }
   ],
   "source": [
    "A = [20, \"kerala\", [100, 200, 300], \"A\", \"B\", \"C\", [15, 23, 25]]\n",
    "print(A[-4],A[-3],A[-2])"
   ]
  },
  {
   "cell_type": "code",
   "execution_count": 2,
   "id": "af55979c-a484-4606-badd-97fae7dea981",
   "metadata": {},
   "outputs": [
    {
     "name": "stdin",
     "output_type": "stream",
     "text": [
      "ENTER THE 1ST NUMBER 2\n",
      "ENTER THE 2ST NUMBER 4\n"
     ]
    },
    {
     "name": "stdout",
     "output_type": "stream",
     "text": [
      "The product of 2.0 and 4.0 is 8.0\n"
     ]
    }
   ],
   "source": [
    "x=float(input(\"ENTER THE 1ST NUMBER\"))\n",
    "y=float(input(\"ENTER THE 2ST NUMBER\"))\n",
    "z=x*y\n",
    "print(f\"The product of {x} and {y} is {z}\")"
   ]
  },
  {
   "cell_type": "code",
   "execution_count": null,
   "id": "7d3ed39a-1317-4fbd-9fd7-4c1ccc29b003",
   "metadata": {},
   "outputs": [],
   "source": []
  }
 ],
 "metadata": {
  "kernelspec": {
   "display_name": "Python 3 (ipykernel)",
   "language": "python",
   "name": "python3"
  },
  "language_info": {
   "codemirror_mode": {
    "name": "ipython",
    "version": 3
   },
   "file_extension": ".py",
   "mimetype": "text/x-python",
   "name": "python",
   "nbconvert_exporter": "python",
   "pygments_lexer": "ipython3",
   "version": "3.13.1"
  }
 },
 "nbformat": 4,
 "nbformat_minor": 5
}
