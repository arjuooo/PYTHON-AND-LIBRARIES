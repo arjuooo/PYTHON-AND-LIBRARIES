{
 "cells": [
  {
   "cell_type": "code",
   "execution_count": 1,
   "id": "3bc6e208-6d15-40f5-8f2e-f143e2b07f0f",
   "metadata": {},
   "outputs": [
    {
     "name": "stdout",
     "output_type": "stream",
     "text": [
      "range:15\n"
     ]
    }
   ],
   "source": [
    "import numpy as np\n",
    "import scipy.stats as st\n",
    "data=[12,15,14,10,18,20,22,25,14,17]\n",
    "range_=max(data)-min(data)\n",
    "print(f\"range:{range_}\")"
   ]
  },
  {
   "cell_type": "code",
   "execution_count": 2,
   "id": "24343d81-2e66-4b67-bf87-a0cb6c5be869",
   "metadata": {},
   "outputs": [
    {
     "name": "stdout",
     "output_type": "stream",
     "text": [
      "population variance:19.410000000000004\n"
     ]
    }
   ],
   "source": [
    "variance=np.var(data,ddof=0)\n",
    "sample=np.var(data,ddof=1)\n",
    "print(f\"population variance:{variance}\")"
   ]
  },
  {
   "cell_type": "code",
   "execution_count": 3,
   "id": "379f9e3b-dbcc-4c70-852e-372bcd5224fc",
   "metadata": {},
   "outputs": [
    {
     "name": "stdout",
     "output_type": "stream",
     "text": [
      "population SD:4.405678154382138\n"
     ]
    }
   ],
   "source": [
    "_std=np.std(data,ddof=0)\n",
    "sample=np.std(data,ddof=1)\n",
    "print(f\"population SD:{_std}\")"
   ]
  },
  {
   "cell_type": "code",
   "execution_count": 10,
   "id": "5e3f7abe-9a0d-4992-9579-33add1bae2b5",
   "metadata": {},
   "outputs": [
    {
     "name": "stdout",
     "output_type": "stream",
     "text": [
      "IQR:5.5\n"
     ]
    }
   ],
   "source": [
    "q1=np.percentile(data,25)\n",
    "q3=np.percentile(data,75)\n",
    "iqr=q3-q1\n",
    "print(f\"IQR:{iqr}\")"
   ]
  },
  {
   "cell_type": "code",
   "execution_count": 16,
   "id": "d9a33199-80f6-4fb3-b31c-b2ad32f3a71f",
   "metadata": {},
   "outputs": [
    {
     "name": "stdout",
     "output_type": "stream",
     "text": [
      "[99 62 22 43 60 49 47 98 15 15]\n",
      "mean: 51.0\n",
      "median: 48.0\n",
      "mode: 15\n"
     ]
    }
   ],
   "source": [
    "import numpy as np\n",
    "import statistics as st\n",
    "li=np.random.randint(0,100,10)\n",
    "print(li)\n",
    "print(\"mean:\",np.mean(li))\n",
    "print(\"median:\",np.median(li))\n",
    "print(\"mode:\",st.mode(li))"
   ]
  },
  {
   "cell_type": "code",
   "execution_count": 21,
   "id": "c952cbba-7ad5-4ed1-95bd-54bb28e73e2d",
   "metadata": {},
   "outputs": [
    {
     "name": "stdout",
     "output_type": "stream",
     "text": [
      "population SD:28.691462144686877\n",
      "sample SD: 30.243456592570013\n"
     ]
    }
   ],
   "source": [
    "import numpy as np\n",
    "import statistics as st\n",
    "u=[99,62,22,43,60,49,47,98,15,15]\n",
    "std=np.std(u,ddof=0)\n",
    "sam=np.std(u,ddof=1)\n",
    "print(f\"population SD:{std}\")\n",
    "print(f\"sample SD: {sam}\")"
   ]
  },
  {
   "cell_type": "code",
   "execution_count": 1,
   "id": "547f8569-234c-4c58-9662-f6cbec7085c4",
   "metadata": {},
   "outputs": [
    {
     "name": "stdout",
     "output_type": "stream",
     "text": [
      "mean: 51.0\n",
      "median: 48.0\n",
      "mode: 15\n"
     ]
    }
   ],
   "source": [
    "import numpy as np\n",
    "import statistics as st\n",
    "u=[99,62,22,43,60,49,47,98,15,15]\n",
    "print(\"mean:\",np.mean(u))\n",
    "print(\"median:\",np.median(u))\n",
    "print(\"mode:\",st.mode(u))"
   ]
  },
  {
   "cell_type": "code",
   "execution_count": 4,
   "id": "4d37c157-a783-45fc-b770-4c13c5f748c9",
   "metadata": {},
   "outputs": [
    {
     "name": "stdout",
     "output_type": "stream",
     "text": [
      "[1 2 3 4]\n",
      "<class 'numpy.ndarray'>\n"
     ]
    }
   ],
   "source": [
    "import numpy as np\n",
    "arr=np.array([1,2,3,4])\n",
    "print(arr)\n",
    "print(type(arr))"
   ]
  },
  {
   "cell_type": "code",
   "execution_count": 8,
   "id": "0a68ed04-04f9-455f-940f-13e2fdb239d3",
   "metadata": {},
   "outputs": [
    {
     "name": "stdout",
     "output_type": "stream",
     "text": [
      "42\n"
     ]
    }
   ],
   "source": [
    "import numpy as np\n",
    "arr=np.array(42)\n",
    "print(arr)"
   ]
  },
  {
   "cell_type": "code",
   "execution_count": 16,
   "id": "6f5e29df-f1bd-4d9a-8c2c-b5e259c7e85b",
   "metadata": {},
   "outputs": [
    {
     "name": "stdout",
     "output_type": "stream",
     "text": [
      "[1 2 3 4]\n",
      "1\n"
     ]
    }
   ],
   "source": [
    "import numpy as np\n",
    "arr=np.array([1,2,3,4])\n",
    "print(arr)\n",
    "print(arr.ndim)"
   ]
  },
  {
   "cell_type": "code",
   "execution_count": 17,
   "id": "b28615e0-bae1-4caa-91bd-989b5bc234c2",
   "metadata": {},
   "outputs": [
    {
     "name": "stdout",
     "output_type": "stream",
     "text": [
      "[[1 2 3]\n",
      " [4 5 6]]\n",
      "2\n"
     ]
    }
   ],
   "source": [
    "import numpy as np\n",
    "arr=np.array([[1,2,3],[4,5,6]])\n",
    "print(arr)\n",
    "print(arr.ndim)"
   ]
  },
  {
   "cell_type": "code",
   "execution_count": 15,
   "id": "56dda927-44fc-4624-8744-ce1c69c86ed0",
   "metadata": {},
   "outputs": [
    {
     "name": "stdout",
     "output_type": "stream",
     "text": [
      "[[[1 2 3]\n",
      "  [4 5 6]]\n",
      "\n",
      " [[1 2 3]\n",
      "  [4 5 6]]]\n",
      "3\n"
     ]
    }
   ],
   "source": [
    "import numpy as np\n",
    "a=np.array([[[1,2,3],[4,5,6]],[[1,2,3],[4,5,6]]])\n",
    "print(a)\n",
    "print(a.ndim)"
   ]
  },
  {
   "cell_type": "code",
   "execution_count": 14,
   "id": "fb7b61ee-a38a-486a-90d1-459e26bc39e8",
   "metadata": {},
   "outputs": [
    {
     "name": "stdout",
     "output_type": "stream",
     "text": [
      "0\n"
     ]
    }
   ],
   "source": [
    "a=np.array(42)\n",
    "print(a.ndim)"
   ]
  },
  {
   "cell_type": "code",
   "execution_count": 21,
   "id": "14f83634-12d5-457c-bba2-aabef7acc785",
   "metadata": {},
   "outputs": [
    {
     "name": "stdout",
     "output_type": "stream",
     "text": [
      "[[[[[1 2 3 4]]]]]\n",
      "number of dimensions: 5\n"
     ]
    }
   ],
   "source": [
    "import numpy as np\n",
    "arr=np.array([1,2,3,4],ndmin=5)\n",
    "print(arr)\n",
    "print('number of dimensions:',arr.ndim)"
   ]
  },
  {
   "cell_type": "code",
   "execution_count": 22,
   "id": "8cd86c79-addf-40a2-8d28-0ddccb2c3ca2",
   "metadata": {},
   "outputs": [
    {
     "name": "stdout",
     "output_type": "stream",
     "text": [
      "1\n"
     ]
    }
   ],
   "source": [
    "import numpy as np\n",
    "arr=np.array([1,2,3,4])\n",
    "print(arr[0])"
   ]
  },
  {
   "cell_type": "code",
   "execution_count": 24,
   "id": "927b3a55-17f3-483d-b91e-804c61686bee",
   "metadata": {},
   "outputs": [
    {
     "name": "stdout",
     "output_type": "stream",
     "text": [
      "2nd element on 1st dim: 2\n"
     ]
    }
   ],
   "source": [
    "import numpy as np\n",
    "arr=np.array([[1,2,3,4,5],[6,7,8,9,10]])\n",
    "print('2nd element on 1st dim:',arr[0,1])"
   ]
  },
  {
   "cell_type": "code",
   "execution_count": 26,
   "id": "5f968fe0-1c77-4fa7-bb15-6551a2b2017b",
   "metadata": {},
   "outputs": [
    {
     "name": "stdout",
     "output_type": "stream",
     "text": [
      "6\n"
     ]
    }
   ],
   "source": [
    "import numpy as np\n",
    "r=np.array([[[1,2,3],[4,5,6]],[[7,8,9],[10,11,12]]])\n",
    "print(r[0,1,2])"
   ]
  },
  {
   "cell_type": "code",
   "execution_count": 29,
   "id": "0e90845a-47fe-4b09-9af7-626fdb9c4494",
   "metadata": {},
   "outputs": [
    {
     "name": "stdout",
     "output_type": "stream",
     "text": [
      "12\n"
     ]
    }
   ],
   "source": [
    "print(r[1,1,2])"
   ]
  },
  {
   "cell_type": "code",
   "execution_count": 32,
   "id": "53ee72e3-79db-4b29-864d-c89d349d6f4d",
   "metadata": {},
   "outputs": [
    {
     "name": "stdout",
     "output_type": "stream",
     "text": [
      "last element from 2 nd dim: 5\n"
     ]
    }
   ],
   "source": [
    "import numpy as np\n",
    "arr=np.array([[1,2,3,4,5],[6,7,8,9,10]])\n",
    "print('last element from 2 nd dim:',arr[-2,-1])"
   ]
  },
  {
   "cell_type": "code",
   "execution_count": 33,
   "id": "99665db7-5b29-4396-b57d-bbe99cc24b50",
   "metadata": {},
   "outputs": [
    {
     "name": "stdout",
     "output_type": "stream",
     "text": [
      "[2 3 4 5]\n"
     ]
    }
   ],
   "source": [
    "import numpy as np\n",
    "a=np.array([1,2,3,4,5,6,7,])\n",
    "print(a[1:5])"
   ]
  },
  {
   "cell_type": "code",
   "execution_count": 35,
   "id": "a1fa63b0-c641-4bfb-a2e3-1f3bb7c82173",
   "metadata": {},
   "outputs": [
    {
     "name": "stdout",
     "output_type": "stream",
     "text": [
      "[1 2 3 4]\n"
     ]
    }
   ],
   "source": [
    "import numpy as np\n",
    "a=np.array([1,2,3,4,5,6,7])\n",
    "print(a[:4])"
   ]
  },
  {
   "cell_type": "code",
   "execution_count": 41,
   "id": "15bb7beb-182a-486b-b929-7d67d443531d",
   "metadata": {},
   "outputs": [
    {
     "name": "stdout",
     "output_type": "stream",
     "text": [
      "[ 1  4  7 10]\n"
     ]
    }
   ],
   "source": [
    "import numpy as np \n",
    "a=np.array([1,2,3,4,5,6,7,8,9,10])\n",
    "print(a[:10:3])"
   ]
  },
  {
   "cell_type": "code",
   "execution_count": 48,
   "id": "a50c8062-903e-415b-87cb-0b8b168ec2f0",
   "metadata": {},
   "outputs": [
    {
     "name": "stdout",
     "output_type": "stream",
     "text": [
      "[ 7  9 11 13 15]\n"
     ]
    }
   ],
   "source": [
    "import numpy as np\n",
    "a=np.array([1,2,3,4,5,6,7,8,9,10,11,12,13,14,15])\n",
    "print(a[6::2])"
   ]
  },
  {
   "cell_type": "code",
   "execution_count": 53,
   "id": "08a7f324-4100-4329-886e-05983185c107",
   "metadata": {},
   "outputs": [
    {
     "name": "stdout",
     "output_type": "stream",
     "text": [
      "[1 2 3 4 5]\n"
     ]
    }
   ],
   "source": [
    "import numpy as np\n",
    "a=np.array([1,2,3,4,5])\n",
    "print(a[::])"
   ]
  },
  {
   "cell_type": "code",
   "execution_count": 55,
   "id": "bce6ef82-2ad8-45e6-a8ee-d8c86956b161",
   "metadata": {},
   "outputs": [
    {
     "name": "stdout",
     "output_type": "stream",
     "text": [
      "[ 2  6 10]\n"
     ]
    }
   ],
   "source": [
    "import numpy as np\n",
    "a=np.array([2,4,6,8,10])\n",
    "print(a[0:10:2])"
   ]
  },
  {
   "cell_type": "code",
   "execution_count": 58,
   "id": "e9a0cebe-e558-42ad-b86d-ca48bd1c93f0",
   "metadata": {},
   "outputs": [
    {
     "name": "stdout",
     "output_type": "stream",
     "text": [
      "[ 1  2  3  4  5  6  7  8  9 10]\n"
     ]
    }
   ],
   "source": [
    "import numpy as np\n",
    "a = np.array([1, 2, 3, 4, 5,6,7,8,9,10])\n",
    "print(a[0:10:1])"
   ]
  },
  {
   "cell_type": "code",
   "execution_count": 74,
   "id": "9a5cdb73-ffea-4569-930a-ab9a194da65e",
   "metadata": {},
   "outputs": [
    {
     "name": "stdout",
     "output_type": "stream",
     "text": [
      "[ 6 37 17 10 26 12  8 19 42 23]\n",
      "[37 10 12 19 23]\n"
     ]
    }
   ],
   "source": [
    "import numpy as np\n",
    "a=np.random.randint(0,50,10)\n",
    "print(a)\n",
    "a1=np.array(a)\n",
    "print(a1[1:50:2])"
   ]
  }
 ],
 "metadata": {
  "kernelspec": {
   "display_name": "Python 3 (ipykernel)",
   "language": "python",
   "name": "python3"
  },
  "language_info": {
   "codemirror_mode": {
    "name": "ipython",
    "version": 3
   },
   "file_extension": ".py",
   "mimetype": "text/x-python",
   "name": "python",
   "nbconvert_exporter": "python",
   "pygments_lexer": "ipython3",
   "version": "3.13.1"
  }
 },
 "nbformat": 4,
 "nbformat_minor": 5
}
