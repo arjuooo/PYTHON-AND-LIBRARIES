{
 "cells": [
  {
   "cell_type": "code",
   "execution_count": 2,
   "id": "f03d48c7-444a-4b0e-bf0f-2a60afa3dca5",
   "metadata": {},
   "outputs": [
    {
     "name": "stdout",
     "output_type": "stream",
     "text": [
      "     Name  Sirname\n",
      "0  Sachin  Bharwaj\n",
      "1   Vinod    Verma\n",
      "\n",
      " Row index is : 0\n",
      "Row value is :\n",
      "Name        Sachin\n",
      "Sirname    Bharwaj\n",
      "Name: 0, dtype: object\n",
      "\n",
      " Row index is : 1\n",
      "Row value is :\n",
      "Name       Vinod\n",
      "Sirname    Verma\n",
      "Name: 1, dtype: object\n"
     ]
    }
   ],
   "source": [
    "import pandas as pd\n",
    "p=[{'Name':'Sachin','Sirname':'Bharwaj'},\n",
    "   {'Name':'Vinod','Sirname':'Verma'}]\n",
    "df1=pd.DataFrame(p)\n",
    "print(df1)\n",
    "for(row_index,row_value) in df1.iterrows():\n",
    "    print('\\n Row index is :',row_index)\n",
    "    print('Row value is :')\n",
    "    print(row_value)"
   ]
  },
  {
   "cell_type": "code",
   "execution_count": 5,
   "id": "bd4efe13-2f4d-4c21-98b8-04555fd59153",
   "metadata": {},
   "outputs": [
    {
     "name": "stdout",
     "output_type": "stream",
     "text": [
      "   EmpId     EName         Doj\n",
      "0    100    Sachin  12-01-2012\n",
      "1    101     Vinod  15-01-2012\n",
      "2    102   Lakhibr  05-09-2007\n",
      "3    103      Anil  17-01-2012\n",
      "4    104  Devinder  05-09-2007\n",
      "5    105  Umaselvi  16-01-2012\n"
     ]
    }
   ],
   "source": [
    "import pandas as pd\n",
    "empdata={'EmpId':[100,101,102,103,104,105],\n",
    "         'EName':['Sachin','Vinod','Lakhibr','Anil','Devinder','Umaselvi'],\n",
    "         'Doj':['12-01-2012','15-01-2012','05-09-2007','17-01-2012','05-09-2007','16-01-2012']}\n",
    "df=pd.DataFrame(empdata)\n",
    "print(df)"
   ]
  },
  {
   "cell_type": "code",
   "execution_count": 10,
   "id": "248aa3ff-eb20-4951-a632-993fe8c9685f",
   "metadata": {},
   "outputs": [
    {
     "data": {
      "text/plain": [
       "0    100\n",
       "1    101\n",
       "2    102\n",
       "3    103\n",
       "4    104\n",
       "5    105\n",
       "Name: EmpId, dtype: int64"
      ]
     },
     "execution_count": 10,
     "metadata": {},
     "output_type": "execute_result"
    }
   ],
   "source": [
    "df.EmpId"
   ]
  },
  {
   "cell_type": "code",
   "execution_count": 11,
   "id": "db4dfe7a-1800-4c64-b02a-6f307187a1f8",
   "metadata": {},
   "outputs": [
    {
     "data": {
      "text/plain": [
       "0      Sachin\n",
       "1       Vinod\n",
       "2     Lakhibr\n",
       "3        Anil\n",
       "4    Devinder\n",
       "5    Umaselvi\n",
       "Name: EName, dtype: object"
      ]
     },
     "execution_count": 11,
     "metadata": {},
     "output_type": "execute_result"
    }
   ],
   "source": [
    "df['EName']"
   ]
  },
  {
   "cell_type": "code",
   "execution_count": 20,
   "id": "dbac8b7c-9e46-498e-9655-26c88552a132",
   "metadata": {},
   "outputs": [
    {
     "name": "stdout",
     "output_type": "stream",
     "text": [
      "   List1  List2  List3\n",
      "0     10     20     30\n",
      "1     15     20     35\n",
      "2     18     20     38\n",
      "3     22     20     42\n"
     ]
    }
   ],
   "source": [
    "import pandas as pd\n",
    "s=pd.Series([10,15,18,22])\n",
    "df=pd.DataFrame(s)\n",
    "df.columns=['List1']\n",
    "df['List2']=20\n",
    "df['List3']=df['List1']+df['List2']\n",
    "print(df)"
   ]
  },
  {
   "cell_type": "code",
   "execution_count": 40,
   "id": "2a7f4c2d-5005-453a-9c2d-9f1cf3962ff0",
   "metadata": {},
   "outputs": [
    {
     "name": "stdout",
     "output_type": "stream",
     "text": [
      "   List1  List2\n",
      "0     10     40\n",
      "1     20     40\n",
      "2     30     40\n",
      "3     40     40\n",
      "After deletion\n",
      "   List1\n",
      "0     10\n",
      "1     20\n",
      "2     30\n",
      "3     40\n",
      "After Row Deletion\n",
      "   List1\n",
      "0     10\n",
      "1     20\n"
     ]
    }
   ],
   "source": [
    "import pandas as pd\n",
    "s=pd.Series([10,20,30,40])\n",
    "df=pd.DataFrame(s)\n",
    "df.columns=['List1']\n",
    "df['List2']=40\n",
    "df1=df.drop('List2',axis=1)\n",
    "df2=df1.drop(index=[2,3],axis=0)\n",
    "print(df)\n",
    "print('After deletion')\n",
    "print(df1)\n",
    "print('After Row Deletion')\n",
    "print(df2)"
   ]
  },
  {
   "cell_type": "code",
   "execution_count": 36,
   "id": "c422662b-9c0b-42f1-8a39-70f3bf7ca046",
   "metadata": {},
   "outputs": [
    {
     "name": "stdout",
     "output_type": "stream",
     "text": [
      "      Tcs  wipro    l&t\n",
      "qt1  2500   2800   2100\n",
      "qt2  2000   2400   5700\n",
      "qt3  3000   3600  35000\n",
      "qt4  2000   2400   2100\n",
      "Tcs       3000\n",
      "wipro     3600\n",
      "l&t      35000\n",
      "Name: qt3, dtype: int64\n",
      "      Tcs  wipro    l&t\n",
      "qt1  2500   2800   2100\n",
      "qt2  2000   2400   5700\n",
      "qt3  3000   3600  35000\n"
     ]
    }
   ],
   "source": [
    "import pandas as pd\n",
    "runs={'Tcs':{'qt1':2500,'qt2':2000,'qt3':3000,'qt4':2000},\n",
    "      'wipro':{'qt1':2800,'qt2':2400,'qt3':3600,'qt4':2400},\n",
    "      'l&t':{'qt1':2100,'qt2':5700,'qt3':35000,'qt4':2100}}\n",
    "df=pd.DataFrame(runs)\n",
    "print(df)\n",
    "print(df.loc['qt3',:])\n",
    "print(df.loc['qt1':'qt3',:])"
   ]
  },
  {
   "cell_type": "code",
   "execution_count": 60,
   "id": "205cfd5e-5fcc-4094-b1fd-b6e34d489c77",
   "metadata": {},
   "outputs": [
    {
     "name": "stdout",
     "output_type": "stream",
     "text": [
      "      Tcs  Wipro   L&T\n",
      "Qt1  2500   2800  2500\n",
      "Qt2  2000   2400  2000\n",
      "Qt3  3000   3600  3000\n",
      "Qt4  2000   2400  2000\n",
      "Qt1    2500\n",
      "Qt2    2000\n",
      "Qt3    3000\n",
      "Qt4    2000\n",
      "Name: Tcs, dtype: int64\n",
      "      Tcs  Wipro\n",
      "Qt1  2500   2800\n",
      "Qt2  2000   2400\n",
      "Qt3  3000   3600\n",
      "Qt4  2000   2400\n"
     ]
    }
   ],
   "source": [
    "import pandas as pd\n",
    "runs={'Tcs':{'Qt1':2500,'Qt2':2000,'Qt3':3000,'Qt4':2000},\n",
    "      'Wipro':{'Qt1':2800,'Qt2':2400,'Qt3':3600,'Qt4':2400},\n",
    "      'L&T':{'Qt1':2500,'Qt2':2000,'Qt3':3000,'Qt4':2000}}\n",
    "df=pd.DataFrame(runs)\n",
    "print(df)\n",
    "print(df.loc[:,'Tcs'])\n",
    "print(df.loc[:,'Tcs':'Wipro'])"
   ]
  },
  {
   "cell_type": "code",
   "execution_count": 45,
   "id": "ff49dc02-bb50-414f-b40b-0db78195c805",
   "metadata": {},
   "outputs": [
    {
     "name": "stdout",
     "output_type": "stream",
     "text": [
      "   empid     ename         doj\n",
      "0    101    sachin  12-01-2012\n",
      "1    102     vinod  15-01-2012\n",
      "2    103   lakhbir  05-09-2007\n",
      "3    104      anil  17-01-2012\n",
      "4    105  devinder  05-09-2007\n",
      "5    106  umaselvi  16-01-2012\n",
      "empid           103\n",
      "ename       lakhbir\n",
      "doj      05-09-2007\n",
      "Name: 2, dtype: object\n"
     ]
    },
    {
     "data": {
      "text/html": [
       "<div>\n",
       "<style scoped>\n",
       "    .dataframe tbody tr th:only-of-type {\n",
       "        vertical-align: middle;\n",
       "    }\n",
       "\n",
       "    .dataframe tbody tr th {\n",
       "        vertical-align: top;\n",
       "    }\n",
       "\n",
       "    .dataframe thead th {\n",
       "        text-align: right;\n",
       "    }\n",
       "</style>\n",
       "<table border=\"1\" class=\"dataframe\">\n",
       "  <thead>\n",
       "    <tr style=\"text-align: right;\">\n",
       "      <th></th>\n",
       "      <th>empid</th>\n",
       "      <th>ename</th>\n",
       "      <th>doj</th>\n",
       "    </tr>\n",
       "  </thead>\n",
       "  <tbody>\n",
       "    <tr>\n",
       "      <th>0</th>\n",
       "      <td>101</td>\n",
       "      <td>sachin</td>\n",
       "      <td>12-01-2012</td>\n",
       "    </tr>\n",
       "    <tr>\n",
       "      <th>1</th>\n",
       "      <td>102</td>\n",
       "      <td>vinod</td>\n",
       "      <td>15-01-2012</td>\n",
       "    </tr>\n",
       "    <tr>\n",
       "      <th>2</th>\n",
       "      <td>103</td>\n",
       "      <td>lakhbir</td>\n",
       "      <td>05-09-2007</td>\n",
       "    </tr>\n",
       "  </tbody>\n",
       "</table>\n",
       "</div>"
      ],
      "text/plain": [
       "   empid    ename         doj\n",
       "0    101   sachin  12-01-2012\n",
       "1    102    vinod  15-01-2012\n",
       "2    103  lakhbir  05-09-2007"
      ]
     },
     "execution_count": 45,
     "metadata": {},
     "output_type": "execute_result"
    }
   ],
   "source": [
    "import pandas as pd\n",
    "Empdata={'empid':[101,102,103,104,105,106],\n",
    "         'ename':['sachin','vinod','lakhbir','anil','devinder','umaselvi'],\n",
    "         'doj':['12-01-2012','15-01-2012','05-09-2007','17-01-2012','05-09-2007','16-01-2012']}\n",
    "df=pd.DataFrame(Empdata)\n",
    "print(df)\n",
    "print(df.loc[2])\n",
    "df.loc[0:2]"
   ]
  },
  {
   "cell_type": "code",
   "execution_count": 58,
   "id": "4bcdfeeb-66bc-4657-b27c-37c64b58d6fd",
   "metadata": {},
   "outputs": [
    {
     "name": "stdout",
     "output_type": "stream",
     "text": [
      "      Tcs  wipro    l&t\n",
      "qt1  2500   2800   2100\n",
      "qt2  2000   2400   5700\n",
      "qt3  3000   3600  35000\n",
      "qt4  2000   2400   2100\n",
      "     wipro\n",
      "qt1   2800\n",
      "qt2   2400\n",
      "      Tcs  wipro\n",
      "qt1  2500   2800\n",
      "qt2  2000   2400\n",
      "qt3  3000   3600\n",
      "qt4  2000   2400\n"
     ]
    }
   ],
   "source": [
    "import pandas as pd\n",
    "runs={'Tcs':{'qt1':2500,'qt2':2000,'qt3':3000,'qt4':2000},\n",
    "      'wipro':{'qt1':2800,'qt2':2400,'qt3':3600,'qt4':2400},\n",
    "      'l&t':{'qt1':2100,'qt2':5700,'qt3':35000,'qt4':2100}}\n",
    "df=pd.DataFrame(runs)\n",
    "print(df)\n",
    "print(df.iloc[0:2,1:2])\n",
    "print(df.iloc[:,0:2])"
   ]
  },
  {
   "cell_type": "code",
   "execution_count": 62,
   "id": "17aeba7f-08d8-494d-a3de-8aafa0748b14",
   "metadata": {},
   "outputs": [
    {
     "name": "stdout",
     "output_type": "stream",
     "text": [
      "0    10\n",
      "1    15\n",
      "2    18\n",
      "3    22\n",
      "4    55\n",
      "dtype: int64\n"
     ]
    }
   ],
   "source": [
    "import pandas as pd\n",
    "import numpy as np\n",
    "arr=np.array([10,15,18,22,55,77,42,48,97])\n",
    "s=pd.Series(arr)\n",
    "print(s.head())"
   ]
  },
  {
   "cell_type": "code",
   "execution_count": 63,
   "id": "9ee92cbb-5243-41cb-83f4-ada7605d10a0",
   "metadata": {},
   "outputs": [
    {
     "name": "stdout",
     "output_type": "stream",
     "text": [
      "   empid     ename         doj\n",
      "0    101    sachin  12-01-2012\n",
      "1    102     vinod  15-01-2012\n",
      "2    103   lakhbir  05-09-2007\n",
      "3    104      anil  17-01-2012\n",
      "4    105  devinder  05-09-2007\n",
      "5    106  umaselvi  16-01-2012\n",
      "   empid     ename         doj\n",
      "0    101    sachin  12-01-2012\n",
      "1    102     vinod  15-01-2012\n",
      "2    103   lakhbir  05-09-2007\n",
      "3    104      anil  17-01-2012\n",
      "4    105  devinder  05-09-2007\n",
      "   empid     ename         doj\n",
      "1    102     vinod  15-01-2012\n",
      "2    103   lakhbir  05-09-2007\n",
      "3    104      anil  17-01-2012\n",
      "4    105  devinder  05-09-2007\n",
      "5    106  umaselvi  16-01-2012\n"
     ]
    }
   ],
   "source": [
    "import pandas as pd\n",
    "Empdata={'empid':[101,102,103,104,105,106],\n",
    "         'ename':['sachin','vinod','lakhbir','anil','devinder','umaselvi'],\n",
    "         'doj':['12-01-2012','15-01-2012','05-09-2007','17-01-2012','05-09-2007','16-01-2012']}\n",
    "df=pd.DataFrame(Empdata)\n",
    "print(df)\n",
    "print(df.head())\n",
    "print(df.tail())"
   ]
  },
  {
   "cell_type": "code",
   "execution_count": 73,
   "id": "b926f7fc-8873-48c8-93c2-7ab34dea6cb0",
   "metadata": {},
   "outputs": [
    {
     "name": "stdout",
     "output_type": "stream",
     "text": [
      "                   Name  Age\n",
      "True   Sachin Bharadwaj   35\n",
      "False       Vinod Verma   36\n",
      "False     Rajesh Mirsha   33\n",
      "Name    Sachin Bharadwaj\n",
      "Age                   35\n",
      "Name: True, dtype: object\n",
      "\n",
      "result of iloc method\n",
      "Name    Vinod Verma\n",
      "Age              36\n",
      "Name: False, dtype: object\n"
     ]
    }
   ],
   "source": [
    "import pandas as pd\n",
    "dic={'Name':['Sachin Bharadwaj','Vinod Verma','Rajesh Mirsha'],\n",
    "      'Age':[35,36,33]}\n",
    "df=pd.DataFrame(dic,index=[True,False,False])\n",
    "print(df)\n",
    "print(df.loc[True])\n",
    "print()\n",
    "print('result of iloc method')\n",
    "print(df.iloc[1])"
   ]
  },
  {
   "cell_type": "code",
   "execution_count": 77,
   "id": "6039bdb3-94d7-46ed-9147-97e52f9f17bd",
   "metadata": {},
   "outputs": [
    {
     "name": "stdout",
     "output_type": "stream",
     "text": [
      "  id value1 value2\n",
      "0  1      A      f\n",
      "1  2      B      g\n",
      "2  3      C      h\n",
      "3  4      D      i\n",
      "4  5      E      j\n",
      "0  6      a      F\n",
      "1  7      b      G\n",
      "2  8      c      H\n",
      "3  9      d      I\n",
      "4  5      e      J\n"
     ]
    }
   ],
   "source": [
    "import pandas as pd\n",
    "dic1={'id':['1','2','3','4','5'],'value1':['A','B','C','D','E'],\n",
    "      'value2':['f','g','h','i','j']}\n",
    "dic2={'id':['6','7','8','9','5'],'value1':['a','b','c','d','e'],\n",
    "      'value2':['F','G','H','I','J']}\n",
    "df1=pd.DataFrame(dic1)\n",
    "df2=pd.DataFrame(dic2)\n",
    "df3=pd.concat([df1,df2])\n",
    "print(df3)"
   ]
  },
  {
   "cell_type": "code",
   "execution_count": 79,
   "id": "73de92e9-f830-4af4-8fe1-b180e98caffc",
   "metadata": {},
   "outputs": [
    {
     "name": "stdout",
     "output_type": "stream",
     "text": [
      "   id value1 value2\n",
      "0   1      A      B\n",
      "1   3      C      D\n",
      "2   5      E      F\n",
      "3   7      G      H\n",
      "4   9      I      J\n",
      "5   2      a      f\n",
      "6   4      b      g\n",
      "7   6      c      h\n",
      "8   8      d      i\n",
      "9  10      e      j\n"
     ]
    }
   ],
   "source": [
    "import pandas as pd\n",
    "dic1={'id':['1','3','5','7','9'],'value1':['A','C','E','G','I'],\n",
    "      'value2':['B','D','F','H','J']}\n",
    "dic2={'id':['2','4','6','8','10'],'value1':['a','b','c','d','e'],\n",
    "      'value2':['f','g','h','i','j']}\n",
    "df1=pd.DataFrame(dic1)\n",
    "df2=pd.DataFrame(dic2)\n",
    "df3=pd.concat([df1,df2],ignore_index=True)\n",
    "print(df3)"
   ]
  },
  {
   "cell_type": "code",
   "execution_count": 81,
   "id": "886c787e-b8a2-46a3-95e3-64e524e47b14",
   "metadata": {},
   "outputs": [
    {
     "name": "stdout",
     "output_type": "stream",
     "text": [
      "         id value1 value2\n",
      "Data1 0   1      A      B\n",
      "      1   3      C      D\n",
      "      2   5      E      F\n",
      "      3   7      G      H\n",
      "      4   9      I      J\n",
      "Data  0   2      a      f\n",
      "      1   4      b      g\n",
      "      2   6      c      h\n",
      "      3   8      d      i\n",
      "      4  10      e      j\n"
     ]
    }
   ],
   "source": [
    "import pandas as pd\n",
    "dic1={'id':['1','3','5','7','9'],'value1':['A','C','E','G','I'],\n",
    "      'value2':['B','D','F','H','J']}\n",
    "dic2={'id':['2','4','6','8','10'],'value1':['a','b','c','d','e'],\n",
    "      'value2':['f','g','h','i','j']}\n",
    "df1=pd.DataFrame(dic1)\n",
    "df2=pd.DataFrame(dic2)\n",
    "merge={'Data1':df1,'Data':df2}\n",
    "df3=pd.concat(merge)\n",
    "print(df3)"
   ]
  },
  {
   "cell_type": "code",
   "execution_count": null,
   "id": "29ecefe0-ab0c-4187-895a-0beb77076fee",
   "metadata": {},
   "outputs": [],
   "source": []
  }
 ],
 "metadata": {
  "kernelspec": {
   "display_name": "Python 3 (ipykernel)",
   "language": "python",
   "name": "python3"
  },
  "language_info": {
   "codemirror_mode": {
    "name": "ipython",
    "version": 3
   },
   "file_extension": ".py",
   "mimetype": "text/x-python",
   "name": "python",
   "nbconvert_exporter": "python",
   "pygments_lexer": "ipython3",
   "version": "3.12.8"
  }
 },
 "nbformat": 4,
 "nbformat_minor": 5
}
