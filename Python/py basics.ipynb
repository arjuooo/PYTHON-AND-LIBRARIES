{
 "cells": [
  {
   "cell_type": "code",
   "execution_count": 8,
   "id": "9245e4fd-cc9e-45d8-86b1-4bf9a6620cea",
   "metadata": {},
   "outputs": [
    {
     "name": "stdout",
     "output_type": "stream",
     "text": [
      "0  1  2  3  4  5  6  7  8  9  "
     ]
    }
   ],
   "source": [
    "for i in range(10):\n",
    "    print(i,end=\"  \")\n"
   ]
  },
  {
   "cell_type": "code",
   "execution_count": 14,
   "id": "a1a7af2a-b2cc-46d5-8ceb-65ae083b6ab6",
   "metadata": {},
   "outputs": [
    {
     "name": "stdout",
     "output_type": "stream",
     "text": [
      "10 20 30 40 "
     ]
    }
   ],
   "source": [
    "v=[10,20,30,40]\n",
    "for i in range(len(v)):\n",
    "    print(v[i],end=\" \")"
   ]
  },
  {
   "cell_type": "code",
   "execution_count": 24,
   "id": "2883f0ca-1136-49e4-ae54-813739b1f92c",
   "metadata": {},
   "outputs": [
    {
     "name": "stdout",
     "output_type": "stream",
     "text": [
      "sum of first 10 natural numbers: 55\n"
     ]
    }
   ],
   "source": [
    "sum=0\n",
    "for i in range(1,11):\n",
    "    sum=sum+i\n",
    "print(\"sum of first 10 natural numbers:\",sum)"
   ]
  },
  {
   "cell_type": "code",
   "execution_count": 21,
   "id": "9554ad48-24a4-4010-bdfa-4370a095a7b6",
   "metadata": {},
   "outputs": [
    {
     "name": "stdout",
     "output_type": "stream",
     "text": [
      "1\n",
      "2\n",
      "3\n",
      "no break\n"
     ]
    }
   ],
   "source": [
    "for i in range(1,4):\n",
    "    print(i)\n",
    "else:\n",
    "    print(\"no break\")"
   ]
  },
  {
   "cell_type": "code",
   "execution_count": 23,
   "id": "e45505ed-becf-4485-965d-ba17b0e347fb",
   "metadata": {},
   "outputs": [
    {
     "name": "stdout",
     "output_type": "stream",
     "text": [
      "1\n"
     ]
    }
   ],
   "source": [
    "for i in range(1,4):\n",
    "    print(i)\n",
    "    break\n",
    "else:\n",
    "    print()"
   ]
  },
  {
   "cell_type": "code",
   "execution_count": 25,
   "id": "10f9122d-baf4-4aa9-bd12-5b4782209e3a",
   "metadata": {},
   "outputs": [
    {
     "name": "stdout",
     "output_type": "stream",
     "text": [
      "red apple\n",
      "red banana\n",
      "big apple\n",
      "big banana\n",
      "tasty apple\n",
      "tasty banana\n"
     ]
    }
   ],
   "source": [
    "adj=['red','big','tasty']\n",
    "fruits=['apple','banana']\n",
    "for x in adj:\n",
    "    for y in fruits:\n",
    "        print(x,y)"
   ]
  },
  {
   "cell_type": "code",
   "execution_count": 2,
   "id": "5b8ad65f-34da-4ca5-806e-7682ccea0687",
   "metadata": {},
   "outputs": [
    {
     "name": "stdout",
     "output_type": "stream",
     "text": [
      "welcome to ipcs\n"
     ]
    }
   ],
   "source": [
    "def hello():\n",
    "    print(\"welcome to ipcs\")\n",
    "hello()"
   ]
  },
  {
   "cell_type": "code",
   "execution_count": 4,
   "id": "e5ca1f35-fc82-4d23-bfbe-ce836e633cb6",
   "metadata": {},
   "outputs": [
    {
     "name": "stdout",
     "output_type": "stream",
     "text": [
      "even\n",
      "odd\n"
     ]
    }
   ],
   "source": [
    "def even_or_odd(x):\n",
    "    if(x%2==0):\n",
    "        print(\"even\")\n",
    "    else:\n",
    "        print(\"odd\")\n",
    "even_or_odd(6)\n",
    "even_or_odd(7)"
   ]
  },
  {
   "cell_type": "code",
   "execution_count": 12,
   "id": "5807778c-ecbb-4528-b822-f2af4e283336",
   "metadata": {},
   "outputs": [
    {
     "name": "stdout",
     "output_type": "stream",
     "text": [
      "10\n",
      "56\n"
     ]
    }
   ],
   "source": [
    "def myfun(x,y):\n",
    "    print(x)\n",
    "    print(y)\n",
    "myfun(10,56)"
   ]
  },
  {
   "cell_type": "code",
   "execution_count": 9,
   "id": "a5b044f6-f1d7-429c-b81b-d16c937abafe",
   "metadata": {},
   "outputs": [
    {
     "name": "stdout",
     "output_type": "stream",
     "text": [
      "hello python\n",
      "function python\n"
     ]
    }
   ],
   "source": [
    "def student(x,y):\n",
    "    print(x,y)\n",
    "student(x='hello',y='python')\n",
    "student(y='python',x='function')"
   ]
  },
  {
   "cell_type": "code",
   "execution_count": 16,
   "id": "9f979a49-46b4-4129-ae8b-265f46c15c35",
   "metadata": {},
   "outputs": [
    {
     "name": "stdout",
     "output_type": "stream",
     "text": [
      "the youngest child is linus\n"
     ]
    }
   ],
   "source": [
    "def my_fun(*kids):\n",
    "    print(\"the youngest child is\",kids[2])\n",
    "my_fun(\"emil\",\"tobias\",\"linus\")"
   ]
  },
  {
   "cell_type": "code",
   "execution_count": 20,
   "id": "0b722ad9-0e23-4124-948c-1bedaa9ec625",
   "metadata": {},
   "outputs": [
    {
     "name": "stdout",
     "output_type": "stream",
     "text": [
      "hello\n",
      "welcome\n",
      "tocs\n",
      "ipcs\n"
     ]
    }
   ],
   "source": [
    "def myfun(*xyz):\n",
    "    for i in xyz:\n",
    "        print(i)\n",
    "myfun(\"hello\",\"welcome\",\"tocs\",\"ipcs\")"
   ]
  },
  {
   "cell_type": "code",
   "execution_count": 26,
   "id": "48c41a8f-4ba0-4de5-b10e-173e1412f246",
   "metadata": {},
   "outputs": [
    {
     "name": "stdout",
     "output_type": "stream",
     "text": [
      "His first name is Thor\n"
     ]
    }
   ],
   "source": [
    "def myfun(**students):\n",
    "    print(\"His first name is\",students[\"name\"])\n",
    "myfun(name=\"Thor\")"
   ]
  },
  {
   "cell_type": "code",
   "execution_count": 31,
   "id": "494006f9-6085-438d-8a2e-b193fa4cb442",
   "metadata": {},
   "outputs": [
    {
     "name": "stdout",
     "output_type": "stream",
     "text": [
      "first==welcome\n",
      "mid==for\n",
      "last==course\n"
     ]
    }
   ],
   "source": [
    "def myfun(**kwargs):\n",
    "    for key,value in kwargs.items():\n",
    "        print(\"%s==%s\"%(key,value))\n",
    "myfun(first=\"welcome\",mid=\"for\",last=\"course\") "
   ]
  },
  {
   "cell_type": "code",
   "execution_count": 33,
   "id": "35d009d5-01a0-4ee8-a4c1-b1ca2f95e1a7",
   "metadata": {},
   "outputs": [
    {
     "name": "stdout",
     "output_type": "stream",
     "text": [
      "i am from sweden\n",
      "i am from norway\n",
      "i am from brazil\n"
     ]
    }
   ],
   "source": [
    "def my_fun(country=\"norway\"):\n",
    "    print(\"i am from\",country)\n",
    "my_fun(\"sweden\")\n",
    "my_fun()\n",
    "my_fun(\"brazil\")"
   ]
  },
  {
   "cell_type": "code",
   "execution_count": 34,
   "id": "a4cd00a0-5f47-483e-beb8-82edac0e5248",
   "metadata": {},
   "outputs": [
    {
     "name": "stdout",
     "output_type": "stream",
     "text": [
      "apple\n",
      "banana\n",
      "cherry\n"
     ]
    }
   ],
   "source": [
    "def my_fun(xyz):\n",
    "    for x in xyz:\n",
    "        print(x)\n",
    "fruits=[\"apple\",\"banana\",\"cherry\"]\n",
    "my_fun(fruits)"
   ]
  },
  {
   "cell_type": "code",
   "execution_count": 35,
   "id": "242cc000-caa9-48f5-80aa-5159e9ae1e73",
   "metadata": {},
   "outputs": [
    {
     "name": "stdout",
     "output_type": "stream",
     "text": [
      "4\n",
      "16\n",
      "4\n"
     ]
    }
   ],
   "source": [
    "def square_value(num):\n",
    "    return num**2\n",
    "print(square_value(2))\n",
    "print(square_value(4))\n",
    "print(square_value(-2))"
   ]
  },
  {
   "cell_type": "code",
   "execution_count": 54,
   "id": "b43af390-b196-4c24-bb44-3d8428fab663",
   "metadata": {},
   "outputs": [
    {
     "name": "stdout",
     "output_type": "stream",
     "text": [
      "[30, 11, 13, 14, 15]\n"
     ]
    }
   ],
   "source": [
    "def my(x):\n",
    "    x[0]=30\n",
    "s=[9,11,13,14,15]\n",
    "my(s)\n",
    "print(s)"
   ]
  },
  {
   "cell_type": "code",
   "execution_count": 63,
   "id": "e751c2a3-72e8-4b9e-be71-4cefcf5c6201",
   "metadata": {},
   "outputs": [
    {
     "name": "stdout",
     "output_type": "stream",
     "text": [
      "God of thunder\n"
     ]
    }
   ],
   "source": [
    "def f1():\n",
    "    s='God of thunder'\n",
    "    def f2():\n",
    "        print(s)\n",
    "    f2()\n",
    "f1()"
   ]
  },
  {
   "cell_type": "code",
   "execution_count": 67,
   "id": "9cf71027-6283-47fd-8a71-6d60d6a56f6c",
   "metadata": {},
   "outputs": [
    {
     "name": "stdout",
     "output_type": "stream",
     "text": [
      "<function <lambda> at 0x00000256C46D7B00>\n"
     ]
    }
   ],
   "source": [
    "string='hello python'\n",
    "print(lambda string:string)"
   ]
  },
  {
   "cell_type": "code",
   "execution_count": 68,
   "id": "41a05b20-4c65-408f-87e7-714f9074e06c",
   "metadata": {},
   "outputs": [
    {
     "name": "stdout",
     "output_type": "stream",
     "text": [
      "hello python\n"
     ]
    }
   ],
   "source": [
    "x=\"hello python\"\n",
    "(lambda x:print(x))(x)"
   ]
  },
  {
   "cell_type": "code",
   "execution_count": 78,
   "id": "69645a44-f7de-482f-bbd6-7b4f4e9f1a0d",
   "metadata": {},
   "outputs": [
    {
     "name": "stdout",
     "output_type": "stream",
     "text": [
      "15625\n",
      "3375\n"
     ]
    }
   ],
   "source": [
    "def cube(y):\n",
    "    return y*y*y;\n",
    "g=lambda x:x*x*x\n",
    "print(g(25))\n",
    "print(cube(15))"
   ]
  },
  {
   "cell_type": "code",
   "execution_count": null,
   "id": "9e3526b2-b2cd-4d7b-a653-93f6421b0427",
   "metadata": {},
   "outputs": [],
   "source": []
  }
 ],
 "metadata": {
  "kernelspec": {
   "display_name": "Python 3 (ipykernel)",
   "language": "python",
   "name": "python3"
  },
  "language_info": {
   "codemirror_mode": {
    "name": "ipython",
    "version": 3
   },
   "file_extension": ".py",
   "mimetype": "text/x-python",
   "name": "python",
   "nbconvert_exporter": "python",
   "pygments_lexer": "ipython3",
   "version": "3.13.1"
  }
 },
 "nbformat": 4,
 "nbformat_minor": 5
}
