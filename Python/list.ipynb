{
 "cells": [
  {
   "cell_type": "code",
   "execution_count": 1,
   "id": "a0e0e643-a8e9-4889-8d5c-b1b8a52b8727",
   "metadata": {},
   "outputs": [
    {
     "name": "stdout",
     "output_type": "stream",
     "text": [
      "['banana', 'apple', 'orange']\n"
     ]
    }
   ],
   "source": [
    "fruits=[\"banana\",\"apple\",\"orange\"]\n",
    "print(fruits)"
   ]
  },
  {
   "cell_type": "code",
   "execution_count": 2,
   "id": "494acfe8-d7de-44c3-b045-318dc5888376",
   "metadata": {},
   "outputs": [
    {
     "name": "stdout",
     "output_type": "stream",
     "text": [
      "['orange', 'mango', 'apple', 'kiwi']\n"
     ]
    }
   ],
   "source": [
    "fruits=[\"apple\",\"orange\",\"mango\",\"apple\",\"kiwi\",\"pineapple\"]\n",
    "print(fruits[1:5])"
   ]
  },
  {
   "cell_type": "code",
   "execution_count": 3,
   "id": "9f7476e3-b69a-4699-ba96-b4d9aec5ba86",
   "metadata": {},
   "outputs": [
    {
     "name": "stdout",
     "output_type": "stream",
     "text": [
      "['apple', 'orange', 'mango', 'apple', 'kiwi']\n",
      "['orange', 'mango', 'apple', 'kiwi', 'pineapple']\n"
     ]
    }
   ],
   "source": [
    "print(fruits[:5])\n",
    "print(fruits[1:])"
   ]
  },
  {
   "cell_type": "code",
   "execution_count": 4,
   "id": "ff62726c-2309-4166-b1d6-49cd26fcba56",
   "metadata": {},
   "outputs": [
    {
     "name": "stdout",
     "output_type": "stream",
     "text": [
      "['orange', 'mango', 'apple', 'kiwi', 'pineapple']\n"
     ]
    }
   ],
   "source": [
    "print(fruits[1:])"
   ]
  },
  {
   "cell_type": "code",
   "execution_count": 5,
   "id": "6fae6fdc-adda-41ce-a5e8-01709aed1f93",
   "metadata": {},
   "outputs": [
    {
     "name": "stdout",
     "output_type": "stream",
     "text": [
      "['apple', 'banana', 'mango', 'apple', 'kiwi', 'pineapple']\n"
     ]
    }
   ],
   "source": [
    "fruits[1]=\"banana\"\n",
    "print(fruits)"
   ]
  },
  {
   "cell_type": "code",
   "execution_count": 6,
   "id": "befeaa0a-d81c-4564-bfc3-195041d76573",
   "metadata": {},
   "outputs": [
    {
     "name": "stdout",
     "output_type": "stream",
     "text": [
      "['apple', 'banana', 'watermelon', 'green apple', 'kiwi', 'pineapple']\n"
     ]
    }
   ],
   "source": [
    "fruits[2:4]=[\"watermelon\",\"green apple\"]\n",
    "print(fruits)"
   ]
  },
  {
   "cell_type": "code",
   "execution_count": 7,
   "id": "8a6b2cb8-f993-4912-a5d8-ab4a6920c4bc",
   "metadata": {},
   "outputs": [
    {
     "data": {
      "text/plain": [
       "['orange']"
      ]
     },
     "execution_count": 7,
     "metadata": {},
     "output_type": "execute_result"
    }
   ],
   "source": [
    "fruits=['apple','babana','orange']\n",
    "fruits[2:]"
   ]
  },
  {
   "cell_type": "code",
   "execution_count": 8,
   "id": "7426547a-7996-412c-b3bb-925006d1eb68",
   "metadata": {},
   "outputs": [
    {
     "name": "stdout",
     "output_type": "stream",
     "text": [
      "['apple', 'babana', 'orange']\n"
     ]
    }
   ],
   "source": [
    "print(fruits)"
   ]
  },
  {
   "cell_type": "code",
   "execution_count": 9,
   "id": "920226dc-3c85-439a-a6c1-78492da047bd",
   "metadata": {},
   "outputs": [
    {
     "name": "stdout",
     "output_type": "stream",
     "text": [
      "['apple', 'babana', 'orange']\n",
      "['babana', 'orange']\n"
     ]
    }
   ],
   "source": [
    "print(fruits[:5])\n",
    "print(fruits[1:])"
   ]
  },
  {
   "cell_type": "code",
   "execution_count": 10,
   "id": "42bb540f-95ca-4eec-8f8b-1e6b6701f6ba",
   "metadata": {},
   "outputs": [
    {
     "name": "stdout",
     "output_type": "stream",
     "text": [
      "['apple', 'banana', 'orange']\n"
     ]
    }
   ],
   "source": [
    "fruits[1]=\"banana\"\n",
    "print(fruits)"
   ]
  },
  {
   "cell_type": "code",
   "execution_count": 11,
   "id": "f6f09b97-0ee9-4824-994f-ba71ca8a77ab",
   "metadata": {},
   "outputs": [
    {
     "name": "stdout",
     "output_type": "stream",
     "text": [
      "['apple', 'banana', 'watermelon', 'kiwi']\n"
     ]
    }
   ],
   "source": [
    "fruits=['apple','banana','orange']\n",
    "fruits[2:]=['watermelon','kiwi']\n",
    "print(fruits)"
   ]
  },
  {
   "cell_type": "code",
   "execution_count": 12,
   "id": "300fba79-d645-4c35-840f-2385b875314d",
   "metadata": {},
   "outputs": [
    {
     "name": "stdout",
     "output_type": "stream",
     "text": [
      "fruits\n"
     ]
    }
   ],
   "source": [
    "fruits=['apple','banana','orange']\n",
    "fruits[1:2]=['kiwi']\n",
    "print(\"fruits\")"
   ]
  },
  {
   "cell_type": "code",
   "execution_count": 13,
   "id": "f2b6347c-7d82-4641-b17e-94118b989459",
   "metadata": {},
   "outputs": [
    {
     "name": "stdout",
     "output_type": "stream",
     "text": [
      "['apple', 'orange', 'banana', 'cherry']\n"
     ]
    }
   ],
   "source": [
    "fruits=[\"apple\",\"banana\",\"cherry\"]\n",
    "fruits.insert(1,\"orange\")\n",
    "print(fruits)"
   ]
  },
  {
   "cell_type": "code",
   "execution_count": 16,
   "id": "6df4bb6b-99a2-451d-bbc9-0fb3de9f742b",
   "metadata": {},
   "outputs": [
    {
     "name": "stdout",
     "output_type": "stream",
     "text": [
      "['apple', 'banana', 'cherry', 'orange']\n"
     ]
    }
   ],
   "source": [
    "fruits=[\"apple\",\"banana\",\"cherry\"]\n",
    "fruits.append(\"orange\")\n",
    "print(fruits)"
   ]
  },
  {
   "cell_type": "code",
   "execution_count": 17,
   "id": "a53eee70-6767-4ec7-a50e-83d8bdff6330",
   "metadata": {},
   "outputs": [
    {
     "name": "stdout",
     "output_type": "stream",
     "text": [
      "['apple', 'banana', 'cherry', 'mango', 'pineapple', 'papaya']\n"
     ]
    }
   ],
   "source": [
    "fruits=[\"apple\",\"banana\",\"cherry\"]\n",
    "fruits2=[\"mango\",\"pineapple\",\"papaya\"]\n",
    "fruits.extend(fruits2)\n",
    "print(fruits)"
   ]
  },
  {
   "cell_type": "code",
   "execution_count": 2,
   "id": "1d7d536b-5bcf-45de-ad6d-3ab904eeed6f",
   "metadata": {},
   "outputs": [
    {
     "name": "stdout",
     "output_type": "stream",
     "text": [
      "['banana', 'cherry']\n"
     ]
    }
   ],
   "source": [
    "fruits=[\"apple\",\"banana\",\"cherry\"]\n",
    "fruits.remove(\"apple\")\n",
    "print(fruits)"
   ]
  },
  {
   "cell_type": "code",
   "execution_count": 3,
   "id": "52bef569-c6a1-4472-b620-a0e438b928ef",
   "metadata": {},
   "outputs": [
    {
     "name": "stdout",
     "output_type": "stream",
     "text": [
      "['apple', 'cherry']\n"
     ]
    }
   ],
   "source": [
    "fruits=[\"apple\",\"banana\",\"cherry\"]\n",
    "fruits.pop(1)\n",
    "print(fruits)"
   ]
  }
 ],
 "metadata": {
  "kernelspec": {
   "display_name": "Python 3 (ipykernel)",
   "language": "python",
   "name": "python3"
  },
  "language_info": {
   "codemirror_mode": {
    "name": "ipython",
    "version": 3
   },
   "file_extension": ".py",
   "mimetype": "text/x-python",
   "name": "python",
   "nbconvert_exporter": "python",
   "pygments_lexer": "ipython3",
   "version": "3.13.1"
  }
 },
 "nbformat": 4,
 "nbformat_minor": 5
}
