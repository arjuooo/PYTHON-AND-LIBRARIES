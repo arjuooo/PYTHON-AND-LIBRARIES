{
 "cells": [
  {
   "cell_type": "code",
   "execution_count": 5,
   "id": "66e9856a-d749-42d3-865d-9a70f3eb62c3",
   "metadata": {},
   "outputs": [
    {
     "name": "stdout",
     "output_type": "stream",
     "text": [
      "6\n",
      "3\n"
     ]
    }
   ],
   "source": [
    "print(len(\"python\"))\n",
    "print(len([10,29,49]))"
   ]
  },
  {
   "cell_type": "code",
   "execution_count": 14,
   "id": "1a3dd789-2d0a-413a-a7c5-36b37fd805a1",
   "metadata": {},
   "outputs": [
    {
     "name": "stdout",
     "output_type": "stream",
     "text": [
      "5\n",
      "9\n"
     ]
    }
   ],
   "source": [
    "def add(x,y,z=0):\n",
    "    return x+y+z\n",
    "print(add(2,3))\n",
    "print(add(2,3,4))"
   ]
  },
  {
   "cell_type": "code",
   "execution_count": 17,
   "id": "1b4823ae-3a35-45b8-b48f-d62633165578",
   "metadata": {},
   "outputs": [
    {
     "name": "stdout",
     "output_type": "stream",
     "text": [
      "New Delhi Is The Capital Of India\n",
      "Hindi Is The Most Widely Spoken\n",
      "India Is A Deveolping Country\n",
      "Washington,D.C Is The Capital Of Usa\n",
      "English Is The Primary Language Of Usa\n",
      "Usa Is A Developed Country\n"
     ]
    }
   ],
   "source": [
    "class india():\n",
    "    def capital(self):\n",
    "        print(\"New Delhi Is The Capital Of India\")\n",
    "    def language(self):\n",
    "        print(\"Hindi Is The Most Widely Spoken\")\n",
    "    def type(self):\n",
    "        print(\"India Is A Deveolping Country\")\n",
    "class usa():\n",
    "    def capital(self):\n",
    "        print(\"Washington,D.C Is The Capital Of Usa\")\n",
    "    def language(self):\n",
    "        print(\"English Is The Primary Language Of Usa\")\n",
    "    def type(self):\n",
    "        print(\"Usa Is A Developed Country\")\n",
    "obj_ind=india()\n",
    "obj_usa=usa()\n",
    "for country in (obj_ind,obj_usa):\n",
    "    country.capital()\n",
    "    country.language()\n",
    "    country.type()"
   ]
  },
  {
   "cell_type": "code",
   "execution_count": 20,
   "id": "38b3f7e8-4604-4b5a-8cca-2b586082ad74",
   "metadata": {},
   "outputs": [
    {
     "name": "stdout",
     "output_type": "stream",
     "text": [
      "Most of the birds can fly but some cannot\n",
      "Sparrow can fly\n",
      "Ostrich cannot fly\n"
     ]
    }
   ],
   "source": [
    "class bird:\n",
    "    def intro(self):\n",
    "        print(\"There are many types of birds\")\n",
    "    def flight(self):\n",
    "        print(\"Most of the birds can fly but some cannot\")\n",
    "class sparrow(bird):\n",
    "    def flight(self):\n",
    "        print(\"Sparrow can fly\")\n",
    "class ostrich(bird):\n",
    "    def flight(self):\n",
    "        print(\"Ostrich cannot fly\")\n",
    "obj_bird=bird()\n",
    "obj_sparrow=sparrow()\n",
    "obj_ostrich=ostrich()\n",
    "for bird in (obj_bird,obj_sparrow,obj_ostrich):\n",
    "    bird.flight()"
   ]
  },
  {
   "cell_type": "code",
   "execution_count": 32,
   "id": "6726b95d-3493-4cb6-9fd2-a8b8cdae6bce",
   "metadata": {},
   "outputs": [
    {
     "name": "stdout",
     "output_type": "stream",
     "text": [
      "somany car companies are there\n",
      "most of them are casual cars\n",
      "BMW is the high performance car\n",
      "KOENIGSEGG the fastest car in the world\n"
     ]
    }
   ],
   "source": [
    "class car:\n",
    "    def brand(self):\n",
    "        print(\"somany car companies are there\")\n",
    "    def speed(self):\n",
    "        print(\"most of them are casual cars\")\n",
    "class BMW(car):\n",
    "    def speed(self):\n",
    "        print(\"BMW is the high performance car\")\n",
    "class koenigsegg(car):\n",
    "    def speed(self):\n",
    "        print(\"KOENIGSEGG the fastest car in the world\")\n",
    "obj1=car()\n",
    "obj2=BMW()\n",
    "obj3=koenigsegg()\n",
    "obj1.brand()\n",
    "obj1.speed()\n",
    "obj2.speed()\n",
    "obj3.speed()"
   ]
  },
  {
   "cell_type": "code",
   "execution_count": 33,
   "id": "66a74aa7-a2c7-447b-b1b5-e821c6d54592",
   "metadata": {},
   "outputs": [
    {
     "name": "stdout",
     "output_type": "stream",
     "text": [
      "New Delhi Is The Capital Of India\n",
      "Hindi Is The Most Widely Spoken\n",
      "India Is A Deveolping Country\n",
      "Washington,D.C Is The Capital Of Usa\n",
      "English Is The Primary Language Of Usa\n",
      "Usa Is A Developed Country\n"
     ]
    }
   ],
   "source": [
    "class India():\n",
    "    def capital(self):\n",
    "        print(\"New Delhi Is The Capital Of India\")\n",
    "    def language(self):\n",
    "        print(\"Hindi Is The Most Widely Spoken\")\n",
    "    def type(self):\n",
    "        print(\"India Is A Deveolping Country\")\n",
    "class USA():\n",
    "    def capital(self):\n",
    "        print(\"Washington,D.C Is The Capital Of Usa\")\n",
    "    def language(self):\n",
    "        print(\"English Is The Primary Language Of Usa\")\n",
    "    def type(self):\n",
    "        print(\"Usa Is A Developed Country\")\n",
    "def fun(obj):\n",
    "        obj.capital()\n",
    "        obj.language()\n",
    "        obj.type()\n",
    "obj_ind=India()\n",
    "obj_usa=USA()\n",
    "fun(obj_ind)\n",
    "fun(obj_usa)"
   ]
  },
  {
   "cell_type": "code",
   "execution_count": 58,
   "id": "597fb28e-ebb4-44f4-b752-c7b3c6bf69f3",
   "metadata": {},
   "outputs": [
    {
     "name": "stdout",
     "output_type": "stream",
     "text": [
      "true\n",
      "false\n",
      "true\n",
      "false\n",
      "true\n",
      "false\n",
      "true\n",
      "false\n",
      "true\n"
     ]
    }
   ],
   "source": [
    "def isprimenot(n):      \n",
    "    if n<=1:\n",
    "        print(\"false\")\n",
    "    if n<=3:\n",
    "        print(\"true\")\n",
    "    if n%2==0 or n%3==0:\n",
    "        print(\"false\")\n",
    "    i=5\n",
    "    while i*i<=n:\n",
    "        if (n%i==0 or n%(i+2)==0):\n",
    "            print(\"false\")\n",
    "    i+=6\n",
    "    print(\"true\")\n",
    "isprimenot(3)\n",
    "isprimenot(6)\n",
    "isprimenot(9)\n",
    "isprimenot(12)"
   ]
  },
  {
   "cell_type": "code",
   "execution_count": 50,
   "id": "89765309-1ee9-4caa-a46d-739923cb2174",
   "metadata": {},
   "outputs": [
    {
     "name": "stdout",
     "output_type": "stream",
     "text": [
      "true\n",
      "false\n"
     ]
    }
   ],
   "source": [
    "import prime\n",
    "prime.isprimenot(3)"
   ]
  },
  {
   "cell_type": "code",
   "execution_count": 10,
   "id": "874e5a80-aabf-47ef-bd7c-f11b94f61ff7",
   "metadata": {},
   "outputs": [
    {
     "name": "stdout",
     "output_type": "stream",
     "text": [
      "apple\n",
      "banana\n",
      "cherry\n"
     ]
    }
   ],
   "source": [
    "mytuple=(\"apple\",\"banana\",\"cherry\")\n",
    "myit=iter(mytuple)\n",
    "print(next(myit))\n",
    "print(next(myit))\n",
    "print(next(myit))"
   ]
  },
  {
   "cell_type": "code",
   "execution_count": 14,
   "id": "89c65f7e-e43a-4a4b-8d03-8dda10b21add",
   "metadata": {},
   "outputs": [
    {
     "name": "stdout",
     "output_type": "stream",
     "text": [
      "b\n",
      "a\n",
      "n\n",
      "a\n",
      "n\n",
      "a\n"
     ]
    }
   ],
   "source": [
    "r=\"banana\"\n",
    "myit=iter(r)\n",
    "print(next(myit))\n",
    "print(next(myit))\n",
    "print(next(myit))\n",
    "print(next(myit))\n",
    "print(next(myit))\n",
    "print(next(myit))"
   ]
  },
  {
   "cell_type": "code",
   "execution_count": 19,
   "id": "75425c12-56e1-44e6-be72-81d2bda5b678",
   "metadata": {},
   "outputs": [
    {
     "name": "stdout",
     "output_type": "stream",
     "text": [
      "apple\n",
      "banana\n",
      "cherry\n"
     ]
    }
   ],
   "source": [
    "x=(\"apple\",\"banana\",\"cherry\")\n",
    "for r in x:\n",
    "    print(r)"
   ]
  },
  {
   "cell_type": "code",
   "execution_count": 34,
   "id": "d9835fc4-e4cf-43d5-a9bb-f919007314fe",
   "metadata": {},
   "outputs": [
    {
     "name": "stdout",
     "output_type": "stream",
     "text": [
      "1\n",
      "2\n",
      "3\n",
      "4\n",
      "5\n"
     ]
    }
   ],
   "source": [
    "class mynum:\n",
    "    def __iter__(self):\n",
    "        self.a=1\n",
    "        return self\n",
    "    def __next__(self):\n",
    "        x=self.a\n",
    "        self.a+=1\n",
    "        return x\n",
    "myclass=mynum()\n",
    "myiter=iter(myclass)\n",
    "print(next(myiter))\n",
    "print(next(myiter))\n",
    "print(next(myiter))\n",
    "print(next(myiter))\n",
    "print(next(myiter))"
   ]
  },
  {
   "cell_type": "code",
   "execution_count": 31,
   "id": "7f40469e-699d-4f91-bb34-e6051d15237b",
   "metadata": {},
   "outputs": [
    {
     "name": "stdout",
     "output_type": "stream",
     "text": [
      "HI!\n",
      "1\n",
      "HOW ARE YOU?\n",
      "2\n",
      "ARE YOU THERE?\n",
      "3\n"
     ]
    }
   ],
   "source": [
    "def greeting():\n",
    "    print(\"HI!\")\n",
    "    yield 1\n",
    "    print(\"HOW ARE YOU?\")\n",
    "    yield 2\n",
    "    print(\"ARE YOU THERE?\")\n",
    "    yield 3\n",
    "messenger=greeting()\n",
    "x=next(messenger)\n",
    "print(x)\n",
    "x=next(messenger)\n",
    "print(x)\n",
    "x=next(messenger)\n",
    "print(x)\n"
   ]
  },
  {
   "cell_type": "code",
   "execution_count": 41,
   "id": "8a39626c-3ae5-465d-bd5e-6e6451cfe493",
   "metadata": {},
   "outputs": [
    {
     "name": "stdout",
     "output_type": "stream",
     "text": [
      "true\n",
      "false\n",
      "false\n",
      "false\n",
      "true\n"
     ]
    }
   ],
   "source": [
    "def isprimenot(n):\n",
    "    if n <= 1:\n",
    "        print(\"false\")\n",
    "        return\n",
    "    if n <= 3:\n",
    "        print(\"true\")\n",
    "        return\n",
    "    if n % 2 == 0 or n % 3 == 0:\n",
    "        print(\"false\")\n",
    "        return\n",
    "    i = 5\n",
    "    while i * i <= n:\n",
    "        if n % i == 0 or n % (i + 2) == 0:\n",
    "            print(\"false\")\n",
    "            return\n",
    "        i += 6\n",
    "    print(\"true\")\n",
    "\n",
    "# Test cases\n",
    "isprimenot(3)\n",
    "isprimenot(6) \n",
    "isprimenot(9) \n",
    "isprimenot(12)\n",
    "isprimenot(13)  \n"
   ]
  },
  {
   "cell_type": "code",
   "execution_count": null,
   "id": "dbb223c1-b290-41bb-b5c7-6e6f325d162e",
   "metadata": {},
   "outputs": [],
   "source": []
  }
 ],
 "metadata": {
  "kernelspec": {
   "display_name": "Python 3 (ipykernel)",
   "language": "python",
   "name": "python3"
  },
  "language_info": {
   "codemirror_mode": {
    "name": "ipython",
    "version": 3
   },
   "file_extension": ".py",
   "mimetype": "text/x-python",
   "name": "python",
   "nbconvert_exporter": "python",
   "pygments_lexer": "ipython3",
   "version": "3.13.1"
  }
 },
 "nbformat": 4,
 "nbformat_minor": 5
}
